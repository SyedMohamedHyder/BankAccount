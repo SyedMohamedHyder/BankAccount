{
 "cells": [
  {
   "cell_type": "code",
   "execution_count": 1,
   "id": "possible-princeton",
   "metadata": {},
   "outputs": [],
   "source": [
    "from datetime import datetime, timezone, timedelta"
   ]
  },
  {
   "cell_type": "code",
   "execution_count": 5,
   "id": "missing-gabriel",
   "metadata": {},
   "outputs": [],
   "source": [
    "class Account:\n",
    "    def __init__(self, account_num, first_name, last_name, *, tz=timezone.utc, balance=0):\n",
    "        self._account_num = account_num\n",
    "        self.first_name = first_name\n",
    "        self.last_name = last_name\n",
    "        self.balance=0\n",
    "        \n",
    "    @property\n",
    "    def account_number(self):\n",
    "        return self._account_num\n",
    "    \n",
    "    @property\n",
    "    def first_name(self):\n",
    "        return self._first_name\n",
    "    \n",
    "    @first_name.setter\n",
    "    def first_name(self, name):\n",
    "        if not isinstance(name, str):\n",
    "            raise TypeError('Name should only be a string')\n",
    "        elif len(name) < 1:\n",
    "            raise ValueError('First Name should be atleast 1 character long')\n",
    "        else:\n",
    "            self._first_name = name.strip()\n",
    "            \n",
    "    @property\n",
    "    def last_name(self):\n",
    "        return self._last_name\n",
    "    \n",
    "    @last_name.setter\n",
    "    def last_name(self, name):\n",
    "        if not isinstance(name, str):\n",
    "            raise TypeError('Name should only be a string')\n",
    "        else:\n",
    "            self._last_name = name.strip()\n",
    "            \n",
    "    @property\n",
    "    def full_name(self):\n",
    "        return f'{self.first_name} {self.last_name}'\n",
    "            \n",
    "        \n",
    "    def __repr__(self):\n",
    "        return f'Account(name={self.full_name}, balance={self.balance})'"
   ]
  },
  {
   "cell_type": "code",
   "execution_count": 6,
   "id": "personalized-armor",
   "metadata": {},
   "outputs": [],
   "source": [
    "acc = Account(1234, 'Syed', 'Hyder')"
   ]
  },
  {
   "cell_type": "code",
   "execution_count": 7,
   "id": "romantic-update",
   "metadata": {},
   "outputs": [
    {
     "data": {
      "text/plain": [
       "Account(name=Syed Hyder, balance=0)"
      ]
     },
     "execution_count": 7,
     "metadata": {},
     "output_type": "execute_result"
    }
   ],
   "source": [
    "acc"
   ]
  },
  {
   "cell_type": "code",
   "execution_count": 8,
   "id": "interested-disorder",
   "metadata": {},
   "outputs": [
    {
     "data": {
      "text/plain": [
       "'Syed'"
      ]
     },
     "execution_count": 8,
     "metadata": {},
     "output_type": "execute_result"
    }
   ],
   "source": [
    "acc.first_name"
   ]
  },
  {
   "cell_type": "code",
   "execution_count": 9,
   "id": "domestic-fishing",
   "metadata": {},
   "outputs": [
    {
     "data": {
      "text/plain": [
       "'Hyder'"
      ]
     },
     "execution_count": 9,
     "metadata": {},
     "output_type": "execute_result"
    }
   ],
   "source": [
    "acc.last_name"
   ]
  },
  {
   "cell_type": "code",
   "execution_count": 10,
   "id": "genetic-forest",
   "metadata": {},
   "outputs": [
    {
     "data": {
      "text/plain": [
       "'Syed Hyder'"
      ]
     },
     "execution_count": 10,
     "metadata": {},
     "output_type": "execute_result"
    }
   ],
   "source": [
    "acc.full_name"
   ]
  },
  {
   "cell_type": "code",
   "execution_count": 11,
   "id": "divine-governor",
   "metadata": {},
   "outputs": [
    {
     "ename": "AttributeError",
     "evalue": "can't set attribute",
     "output_type": "error",
     "traceback": [
      "\u001b[1;31m---------------------------------------------------------------------------\u001b[0m",
      "\u001b[1;31mAttributeError\u001b[0m                            Traceback (most recent call last)",
      "\u001b[1;32m<ipython-input-11-add1774546dd>\u001b[0m in \u001b[0;36m<module>\u001b[1;34m\u001b[0m\n\u001b[1;32m----> 1\u001b[1;33m \u001b[0macc\u001b[0m\u001b[1;33m.\u001b[0m\u001b[0mfull_name\u001b[0m \u001b[1;33m=\u001b[0m \u001b[1;34m'Hello'\u001b[0m\u001b[1;33m\u001b[0m\u001b[1;33m\u001b[0m\u001b[0m\n\u001b[0m",
      "\u001b[1;31mAttributeError\u001b[0m: can't set attribute"
     ]
    }
   ],
   "source": [
    "acc.full_name = 'Hello'"
   ]
  },
  {
   "cell_type": "code",
   "execution_count": 12,
   "id": "arabic-daughter",
   "metadata": {},
   "outputs": [],
   "source": [
    "acc.last_name = 'H1'"
   ]
  },
  {
   "cell_type": "code",
   "execution_count": 13,
   "id": "plain-third",
   "metadata": {},
   "outputs": [
    {
     "data": {
      "text/plain": [
       "Account(name=Syed H1, balance=0)"
      ]
     },
     "execution_count": 13,
     "metadata": {},
     "output_type": "execute_result"
    }
   ],
   "source": [
    "acc"
   ]
  },
  {
   "cell_type": "code",
   "execution_count": null,
   "id": "geological-berkeley",
   "metadata": {},
   "outputs": [],
   "source": []
  },
  {
   "cell_type": "code",
   "execution_count": null,
   "id": "entire-barrier",
   "metadata": {},
   "outputs": [],
   "source": []
  },
  {
   "cell_type": "code",
   "execution_count": null,
   "id": "binary-transfer",
   "metadata": {},
   "outputs": [],
   "source": []
  },
  {
   "cell_type": "code",
   "execution_count": 14,
   "id": "buried-baseball",
   "metadata": {},
   "outputs": [],
   "source": [
    "from datetime import datetime, timezone, timedelta\n",
    "\n",
    "class Account:\n",
    "    def __init__(self, account_num, first_name, last_name, *, tz=timezone.utc, balance=0):\n",
    "        self._account_num = account_num\n",
    "        self.first_name = first_name\n",
    "        self.last_name = last_name\n",
    "        self._balance = balance\n",
    "        self.set_tz(tz)\n",
    "        \n",
    "    @property\n",
    "    def account_number(self):\n",
    "        return self._account_num\n",
    "    \n",
    "    @property\n",
    "    def first_name(self):\n",
    "        return self._first_name\n",
    "    \n",
    "    @first_name.setter\n",
    "    def first_name(self, name):\n",
    "        if not isinstance(name, str):\n",
    "            raise TypeError('Name should only be a string')\n",
    "        elif len(name) < 1:\n",
    "            raise ValueError('First Name should be atleast 1 character long')\n",
    "        else:\n",
    "            self._first_name = name.strip()\n",
    "            \n",
    "    @property\n",
    "    def last_name(self):\n",
    "        return self._last_name\n",
    "    \n",
    "    @last_name.setter\n",
    "    def last_name(self, name):\n",
    "        if not isinstance(name, str):\n",
    "            raise TypeError('Name should only be a string')\n",
    "        else:\n",
    "            self._last_name = name.strip()\n",
    "            \n",
    "    @property\n",
    "    def full_name(self):\n",
    "        return f'{self.first_name} {self.last_name}'\n",
    "    \n",
    "    \n",
    "    @property\n",
    "    def balance(self):\n",
    "        return self._balance\n",
    "    \n",
    "    @classmethod\n",
    "    def set_tz(cls, tz):\n",
    "        cls._tz = tz\n",
    "        \n",
    "    @classmethod\n",
    "    def get_tz(cls):\n",
    "        return cls._tz\n",
    "            \n",
    "        \n",
    "    def __repr__(self):\n",
    "        return f'Account(name={self.full_name}, balance={self.balance})'"
   ]
  },
  {
   "cell_type": "code",
   "execution_count": 16,
   "id": "valid-rouge",
   "metadata": {},
   "outputs": [],
   "source": [
    "acc = Account(1234, 'Syed', 'Hyder')"
   ]
  },
  {
   "cell_type": "code",
   "execution_count": 17,
   "id": "continuous-probability",
   "metadata": {},
   "outputs": [
    {
     "data": {
      "text/plain": [
       "{'_account_num': 1234,\n",
       " '_first_name': 'Syed',\n",
       " '_last_name': 'Hyder',\n",
       " '_balance': 0}"
      ]
     },
     "execution_count": 17,
     "metadata": {},
     "output_type": "execute_result"
    }
   ],
   "source": [
    "acc.__dict__"
   ]
  },
  {
   "cell_type": "code",
   "execution_count": 18,
   "id": "adjustable-cassette",
   "metadata": {},
   "outputs": [
    {
     "ename": "AttributeError",
     "evalue": "can't set attribute",
     "output_type": "error",
     "traceback": [
      "\u001b[1;31m---------------------------------------------------------------------------\u001b[0m",
      "\u001b[1;31mAttributeError\u001b[0m                            Traceback (most recent call last)",
      "\u001b[1;32m<ipython-input-18-33361f604bac>\u001b[0m in \u001b[0;36m<module>\u001b[1;34m\u001b[0m\n\u001b[1;32m----> 1\u001b[1;33m \u001b[0macc\u001b[0m\u001b[1;33m.\u001b[0m\u001b[0maccount_number\u001b[0m \u001b[1;33m=\u001b[0m \u001b[1;36m100\u001b[0m\u001b[1;33m\u001b[0m\u001b[1;33m\u001b[0m\u001b[0m\n\u001b[0m",
      "\u001b[1;31mAttributeError\u001b[0m: can't set attribute"
     ]
    }
   ],
   "source": [
    "acc.account_number = 100"
   ]
  },
  {
   "cell_type": "code",
   "execution_count": 19,
   "id": "satellite-surfing",
   "metadata": {},
   "outputs": [
    {
     "ename": "AttributeError",
     "evalue": "can't set attribute",
     "output_type": "error",
     "traceback": [
      "\u001b[1;31m---------------------------------------------------------------------------\u001b[0m",
      "\u001b[1;31mAttributeError\u001b[0m                            Traceback (most recent call last)",
      "\u001b[1;32m<ipython-input-19-7633d2e0f311>\u001b[0m in \u001b[0;36m<module>\u001b[1;34m\u001b[0m\n\u001b[1;32m----> 1\u001b[1;33m \u001b[0macc\u001b[0m\u001b[1;33m.\u001b[0m\u001b[0mbalance\u001b[0m \u001b[1;33m=\u001b[0m \u001b[1;36m1000\u001b[0m\u001b[1;33m\u001b[0m\u001b[1;33m\u001b[0m\u001b[0m\n\u001b[0m",
      "\u001b[1;31mAttributeError\u001b[0m: can't set attribute"
     ]
    }
   ],
   "source": [
    "acc.balance = 1000"
   ]
  },
  {
   "cell_type": "code",
   "execution_count": 20,
   "id": "italian-excuse",
   "metadata": {},
   "outputs": [
    {
     "data": {
      "text/plain": [
       "0"
      ]
     },
     "execution_count": 20,
     "metadata": {},
     "output_type": "execute_result"
    }
   ],
   "source": [
    "acc.balance"
   ]
  },
  {
   "cell_type": "code",
   "execution_count": 21,
   "id": "egyptian-nancy",
   "metadata": {},
   "outputs": [
    {
     "data": {
      "text/plain": [
       "1234"
      ]
     },
     "execution_count": 21,
     "metadata": {},
     "output_type": "execute_result"
    }
   ],
   "source": [
    "acc.account_number"
   ]
  },
  {
   "cell_type": "code",
   "execution_count": 22,
   "id": "continued-lawyer",
   "metadata": {},
   "outputs": [
    {
     "data": {
      "text/plain": [
       "datetime.timezone.utc"
      ]
     },
     "execution_count": 22,
     "metadata": {},
     "output_type": "execute_result"
    }
   ],
   "source": [
    "acc.get_tz()"
   ]
  },
  {
   "cell_type": "code",
   "execution_count": null,
   "id": "intermediate-settle",
   "metadata": {},
   "outputs": [],
   "source": []
  },
  {
   "cell_type": "code",
   "execution_count": null,
   "id": "efficient-series",
   "metadata": {},
   "outputs": [],
   "source": []
  },
  {
   "cell_type": "code",
   "execution_count": null,
   "id": "grave-appointment",
   "metadata": {},
   "outputs": [],
   "source": []
  },
  {
   "cell_type": "code",
   "execution_count": 37,
   "id": "neither-coordination",
   "metadata": {},
   "outputs": [],
   "source": [
    "from datetime import datetime, timezone, timedelta\n",
    "\n",
    "class TimeZone:\n",
    "    def __init__(self, name, hours, minutes):\n",
    "        self.name = name\n",
    "        self.hours = hours\n",
    "        self.minutes = minutes\n",
    "        \n",
    "    @property\n",
    "    def name(self):\n",
    "        return self._name\n",
    "    \n",
    "    @name.setter\n",
    "    def name(self, value):\n",
    "        if not isinstance(value, str) or len(value) < 1:\n",
    "            raise ValueError('Invalid name for TimeZone')\n",
    "        else:\n",
    "            self._name = value\n",
    "            \n",
    "    @property\n",
    "    def hours(self):\n",
    "        return self._hours\n",
    "    \n",
    "    @hours.setter\n",
    "    def hours(self, value):\n",
    "        if not isinstance(value, int) or value > 24 or value < 0:\n",
    "            raise ValueError('Hours can only have integer values from 0 to 24')\n",
    "        else:\n",
    "            self._hours = value\n",
    "            \n",
    "    @property\n",
    "    def minutes(self):\n",
    "        return self._minutes\n",
    "    \n",
    "    @minutes.setter\n",
    "    def minutes(self, value):\n",
    "        if not isinstance(value, int) or value >= 60 or value < 0:\n",
    "            raise ValueError('Minutes can only have integer values from 0 to 59')\n",
    "        else:\n",
    "            self._minutes = value\n",
    "            \n",
    "    @property\n",
    "    def offset(self):\n",
    "        return timedelta(hours=self.hours, minutes=self.minutes)\n",
    "    \n",
    "\n",
    "class Account:\n",
    "    def __init__(self, account_num, first_name, last_name, *, tz=timezone.utc, balance=0):\n",
    "        self._account_num = account_num\n",
    "        self.first_name = first_name\n",
    "        self.last_name = last_name\n",
    "        self._balance = balance\n",
    "        self.set_tz(tz)\n",
    "        \n",
    "    @property\n",
    "    def account_number(self):\n",
    "        return self._account_num\n",
    "    \n",
    "    @property\n",
    "    def first_name(self):\n",
    "        return self._first_name\n",
    "    \n",
    "    @first_name.setter\n",
    "    def first_name(self, name):\n",
    "        if not isinstance(name, str):\n",
    "            raise TypeError('Name should only be a string')\n",
    "        elif len(name) < 1:\n",
    "            raise ValueError('First Name should be atleast 1 character long')\n",
    "        else:\n",
    "            self._first_name = name.strip()\n",
    "            \n",
    "    @property\n",
    "    def last_name(self):\n",
    "        return self._last_name\n",
    "    \n",
    "    @last_name.setter\n",
    "    def last_name(self, name):\n",
    "        if not isinstance(name, str):\n",
    "            raise TypeError('Name should only be a string')\n",
    "        else:\n",
    "            self._last_name = name.strip()\n",
    "            \n",
    "    @property\n",
    "    def full_name(self):\n",
    "        return f'{self.first_name} {self.last_name}'\n",
    "    \n",
    "    \n",
    "    @property\n",
    "    def balance(self):\n",
    "        return self._balance\n",
    "    \n",
    "    @classmethod\n",
    "    def set_tz(cls, tz):\n",
    "        if isinstance(tz, TimeZone):\n",
    "            tz = timezone(tz.offset, tz.name)\n",
    "        if not isinstance(tz, timezone):\n",
    "            raise TypeError('Invalid TimeZone object passed')\n",
    "        cls._tz = tz\n",
    "        \n",
    "    @classmethod\n",
    "    def get_tz(cls):\n",
    "        return cls._tz\n",
    "            \n",
    "        \n",
    "    def __repr__(self):\n",
    "        return f'Account(name={self.full_name}, balance={self.balance})'"
   ]
  },
  {
   "cell_type": "code",
   "execution_count": 38,
   "id": "august-dispute",
   "metadata": {},
   "outputs": [],
   "source": [
    "acc = Account(123, 'Syed', 'Hyder')"
   ]
  },
  {
   "cell_type": "code",
   "execution_count": 39,
   "id": "after-bradley",
   "metadata": {},
   "outputs": [
    {
     "data": {
      "text/plain": [
       "{'_account_num': 123,\n",
       " '_first_name': 'Syed',\n",
       " '_last_name': 'Hyder',\n",
       " '_balance': 0}"
      ]
     },
     "execution_count": 39,
     "metadata": {},
     "output_type": "execute_result"
    }
   ],
   "source": [
    "acc.__dict__"
   ]
  },
  {
   "cell_type": "code",
   "execution_count": 40,
   "id": "cross-madonna",
   "metadata": {},
   "outputs": [
    {
     "data": {
      "text/plain": [
       "datetime.timezone.utc"
      ]
     },
     "execution_count": 40,
     "metadata": {},
     "output_type": "execute_result"
    }
   ],
   "source": [
    "acc.get_tz()"
   ]
  },
  {
   "cell_type": "code",
   "execution_count": 41,
   "id": "smart-diversity",
   "metadata": {},
   "outputs": [],
   "source": [
    "tz_ = TimeZone('MST', 20, 40)\n",
    "acc2 = Account(12345, 'Syed', 'H')"
   ]
  },
  {
   "cell_type": "code",
   "execution_count": 42,
   "id": "greater-victor",
   "metadata": {},
   "outputs": [
    {
     "data": {
      "text/plain": [
       "'MST'"
      ]
     },
     "execution_count": 42,
     "metadata": {},
     "output_type": "execute_result"
    }
   ],
   "source": [
    "tz_.name"
   ]
  },
  {
   "cell_type": "code",
   "execution_count": 43,
   "id": "speaking-writer",
   "metadata": {},
   "outputs": [
    {
     "data": {
      "text/plain": [
       "datetime.timedelta(seconds=74400)"
      ]
     },
     "execution_count": 43,
     "metadata": {},
     "output_type": "execute_result"
    }
   ],
   "source": [
    "tz_.offset"
   ]
  },
  {
   "cell_type": "code",
   "execution_count": 44,
   "id": "velvet-understanding",
   "metadata": {},
   "outputs": [
    {
     "data": {
      "text/plain": [
       "datetime.timezone.utc"
      ]
     },
     "execution_count": 44,
     "metadata": {},
     "output_type": "execute_result"
    }
   ],
   "source": [
    "acc2.get_tz()"
   ]
  },
  {
   "cell_type": "code",
   "execution_count": 45,
   "id": "earned-gardening",
   "metadata": {},
   "outputs": [],
   "source": [
    "acc2.set_tz(tz_)"
   ]
  },
  {
   "cell_type": "code",
   "execution_count": 46,
   "id": "smooth-trademark",
   "metadata": {},
   "outputs": [
    {
     "data": {
      "text/plain": [
       "datetime.timezone(datetime.timedelta(seconds=74400), 'MST')"
      ]
     },
     "execution_count": 46,
     "metadata": {},
     "output_type": "execute_result"
    }
   ],
   "source": [
    "acc2.get_tz()"
   ]
  },
  {
   "cell_type": "code",
   "execution_count": 47,
   "id": "sublime-smith",
   "metadata": {},
   "outputs": [
    {
     "data": {
      "text/plain": [
       "datetime.timezone(datetime.timedelta(seconds=74400), 'MST')"
      ]
     },
     "execution_count": 47,
     "metadata": {},
     "output_type": "execute_result"
    }
   ],
   "source": [
    "acc.get_tz()"
   ]
  },
  {
   "cell_type": "code",
   "execution_count": 48,
   "id": "modern-plaza",
   "metadata": {},
   "outputs": [
    {
     "ename": "TypeError",
     "evalue": "Invalid TimeZone object passed",
     "output_type": "error",
     "traceback": [
      "\u001b[1;31m---------------------------------------------------------------------------\u001b[0m",
      "\u001b[1;31mTypeError\u001b[0m                                 Traceback (most recent call last)",
      "\u001b[1;32m<ipython-input-48-a91b3171da70>\u001b[0m in \u001b[0;36m<module>\u001b[1;34m\u001b[0m\n\u001b[1;32m----> 1\u001b[1;33m \u001b[0macc\u001b[0m\u001b[1;33m.\u001b[0m\u001b[0mset_tz\u001b[0m\u001b[1;33m(\u001b[0m\u001b[1;34m'1'\u001b[0m\u001b[1;33m)\u001b[0m\u001b[1;33m\u001b[0m\u001b[1;33m\u001b[0m\u001b[0m\n\u001b[0m",
      "\u001b[1;32m<ipython-input-37-ae90b207e54f>\u001b[0m in \u001b[0;36mset_tz\u001b[1;34m(cls, tz)\u001b[0m\n\u001b[0;32m     95\u001b[0m             \u001b[0mtz\u001b[0m \u001b[1;33m=\u001b[0m \u001b[0mtimezone\u001b[0m\u001b[1;33m(\u001b[0m\u001b[0mtz\u001b[0m\u001b[1;33m.\u001b[0m\u001b[0moffset\u001b[0m\u001b[1;33m,\u001b[0m \u001b[0mtz\u001b[0m\u001b[1;33m.\u001b[0m\u001b[0mname\u001b[0m\u001b[1;33m)\u001b[0m\u001b[1;33m\u001b[0m\u001b[1;33m\u001b[0m\u001b[0m\n\u001b[0;32m     96\u001b[0m         \u001b[1;32mif\u001b[0m \u001b[1;32mnot\u001b[0m \u001b[0misinstance\u001b[0m\u001b[1;33m(\u001b[0m\u001b[0mtz\u001b[0m\u001b[1;33m,\u001b[0m \u001b[0mtimezone\u001b[0m\u001b[1;33m)\u001b[0m\u001b[1;33m:\u001b[0m\u001b[1;33m\u001b[0m\u001b[1;33m\u001b[0m\u001b[0m\n\u001b[1;32m---> 97\u001b[1;33m             \u001b[1;32mraise\u001b[0m \u001b[0mTypeError\u001b[0m\u001b[1;33m(\u001b[0m\u001b[1;34m'Invalid TimeZone object passed'\u001b[0m\u001b[1;33m)\u001b[0m\u001b[1;33m\u001b[0m\u001b[1;33m\u001b[0m\u001b[0m\n\u001b[0m\u001b[0;32m     98\u001b[0m         \u001b[0mcls\u001b[0m\u001b[1;33m.\u001b[0m\u001b[0m_tz\u001b[0m \u001b[1;33m=\u001b[0m \u001b[0mtz\u001b[0m\u001b[1;33m\u001b[0m\u001b[1;33m\u001b[0m\u001b[0m\n\u001b[0;32m     99\u001b[0m \u001b[1;33m\u001b[0m\u001b[0m\n",
      "\u001b[1;31mTypeError\u001b[0m: Invalid TimeZone object passed"
     ]
    }
   ],
   "source": [
    "acc.set_tz('1')"
   ]
  },
  {
   "cell_type": "code",
   "execution_count": 49,
   "id": "criminal-reducing",
   "metadata": {},
   "outputs": [],
   "source": [
    "acc2.set_tz(timezone.utc)"
   ]
  },
  {
   "cell_type": "code",
   "execution_count": 50,
   "id": "sophisticated-vertical",
   "metadata": {},
   "outputs": [
    {
     "data": {
      "text/plain": [
       "datetime.timezone.utc"
      ]
     },
     "execution_count": 50,
     "metadata": {},
     "output_type": "execute_result"
    }
   ],
   "source": [
    "acc.get_tz()"
   ]
  },
  {
   "cell_type": "code",
   "execution_count": 52,
   "id": "innocent-specialist",
   "metadata": {},
   "outputs": [],
   "source": [
    "from numbers import Real"
   ]
  },
  {
   "cell_type": "code",
   "execution_count": 54,
   "id": "compound-offense",
   "metadata": {},
   "outputs": [
    {
     "data": {
      "text/plain": [
       "True"
      ]
     },
     "execution_count": 54,
     "metadata": {},
     "output_type": "execute_result"
    }
   ],
   "source": [
    "isinstance(3.14, Real)"
   ]
  },
  {
   "cell_type": "code",
   "execution_count": 55,
   "id": "mental-magnet",
   "metadata": {},
   "outputs": [],
   "source": [
    "from decimal import Decimal\n",
    "from fractions import Fraction"
   ]
  },
  {
   "cell_type": "code",
   "execution_count": 56,
   "id": "latter-transaction",
   "metadata": {},
   "outputs": [
    {
     "data": {
      "text/plain": [
       "False"
      ]
     },
     "execution_count": 56,
     "metadata": {},
     "output_type": "execute_result"
    }
   ],
   "source": [
    "isinstance(Decimal('3.14'), Real)"
   ]
  },
  {
   "cell_type": "code",
   "execution_count": 57,
   "id": "atlantic-import",
   "metadata": {},
   "outputs": [
    {
     "data": {
      "text/plain": [
       "True"
      ]
     },
     "execution_count": 57,
     "metadata": {},
     "output_type": "execute_result"
    }
   ],
   "source": [
    "isinstance(Fraction('3/14'), Real)"
   ]
  },
  {
   "cell_type": "code",
   "execution_count": null,
   "id": "potential-painting",
   "metadata": {},
   "outputs": [],
   "source": []
  },
  {
   "cell_type": "code",
   "execution_count": 31,
   "id": "available-break",
   "metadata": {},
   "outputs": [],
   "source": [
    "from numbers import Real\n",
    "from decimal import Decimal\n",
    "from fractions import Fraction\n",
    "from datetime import datetime, timezone, timedelta\n",
    "\n",
    "\n",
    "\n",
    "\n",
    "class TimeZone:\n",
    "    def __init__(self, name, hours, minutes):\n",
    "        self.name = name\n",
    "        self.hours = hours\n",
    "        self.minutes = minutes\n",
    "        \n",
    "    @property\n",
    "    def name(self):\n",
    "        return self._name\n",
    "    \n",
    "    @name.setter\n",
    "    def name(self, value):\n",
    "        if not isinstance(value, str) or len(value) < 1:\n",
    "            raise ValueError('Invalid name for TimeZone')\n",
    "        else:\n",
    "            self._name = value\n",
    "            \n",
    "    @property\n",
    "    def hours(self):\n",
    "        return self._hours\n",
    "    \n",
    "    @hours.setter\n",
    "    def hours(self, value):\n",
    "        if not isinstance(value, int) or value >= 24 or value <= -24:\n",
    "            raise ValueError('Hours can only have integer values from -23 to 23')\n",
    "        else:\n",
    "            self._hours = value\n",
    "            \n",
    "    @property\n",
    "    def minutes(self):\n",
    "        return self._minutes\n",
    "    \n",
    "    @minutes.setter\n",
    "    def minutes(self, value):\n",
    "        if not isinstance(value, int) or value >= 60 or value <= -60:\n",
    "            raise ValueError('Minutes can only have integer values from -59 to 59')\n",
    "        else:\n",
    "            self._minutes = value\n",
    "            \n",
    "    @property\n",
    "    def offset(self):\n",
    "        return timedelta(hours=self.hours, minutes=self.minutes)\n",
    "    \n",
    "\n",
    "    def __repr__(self):\n",
    "        return f'TimeZone(name={self.name}, hours={self.hours}, minutes={self.minutes})'\n",
    "\n",
    "\n",
    "    \n",
    "\n",
    "    \n",
    "    \n",
    "\n",
    "class Account:\n",
    "    def __init__(self, account_num, first_name, last_name, *, tz=timezone.utc, balance=0):\n",
    "        self._account_num = account_num\n",
    "        self.first_name = first_name\n",
    "        self.last_name = last_name\n",
    "        self.set_tz(tz)\n",
    "        \n",
    "        if not(isinstance(balance, Real) or isinstance(balance, Decimal)) or balance < 0:\n",
    "            raise ValueError('Balance must be a non-negative real number')\n",
    "        else:\n",
    "            self._balance = balance\n",
    "        \n",
    "    @property\n",
    "    def account_number(self):\n",
    "        return self._account_num\n",
    "    \n",
    "    @property\n",
    "    def first_name(self):\n",
    "        return self._first_name\n",
    "    \n",
    "    @first_name.setter\n",
    "    def first_name(self, name):\n",
    "        if not isinstance(name, str):\n",
    "            raise TypeError('Name should only be a string')\n",
    "        elif len(name) < 1:\n",
    "            raise ValueError('First Name should be atleast 1 character long')\n",
    "        else:\n",
    "            self._first_name = name.strip()\n",
    "            \n",
    "    @property\n",
    "    def last_name(self):\n",
    "        return self._last_name\n",
    "    \n",
    "    @last_name.setter\n",
    "    def last_name(self, name):\n",
    "        if not isinstance(name, str):\n",
    "            raise TypeError('Name should only be a string')\n",
    "        else:\n",
    "            self._last_name = name.strip()\n",
    "            \n",
    "    @property\n",
    "    def full_name(self):\n",
    "        return f'{self.first_name} {self.last_name}'\n",
    "    \n",
    "    \n",
    "    @property\n",
    "    def balance(self):\n",
    "        return self._balance\n",
    "    \n",
    "    @classmethod\n",
    "    def set_tz(cls, tz):\n",
    "        if isinstance(tz, TimeZone):\n",
    "            tz = timezone(tz.offset, tz.name)\n",
    "        if not isinstance(tz, timezone):\n",
    "            raise TypeError('Invalid TimeZone object passed')\n",
    "        cls._tz = tz\n",
    "        \n",
    "    @classmethod\n",
    "    def get_tz(cls):\n",
    "        return cls._tz\n",
    "            \n",
    "        \n",
    "    def __repr__(self):\n",
    "        return f'Account(name={self.full_name}, balance={self.balance})'"
   ]
  },
  {
   "cell_type": "code",
   "execution_count": 32,
   "id": "leading-briefing",
   "metadata": {},
   "outputs": [],
   "source": [
    "ti = TimeZone('MST', -7, 0)"
   ]
  },
  {
   "cell_type": "code",
   "execution_count": 33,
   "id": "commercial-clearing",
   "metadata": {},
   "outputs": [
    {
     "data": {
      "text/plain": [
       "'MST'"
      ]
     },
     "execution_count": 33,
     "metadata": {},
     "output_type": "execute_result"
    }
   ],
   "source": [
    "ti.name"
   ]
  },
  {
   "cell_type": "code",
   "execution_count": 34,
   "id": "chemical-client",
   "metadata": {},
   "outputs": [
    {
     "data": {
      "text/plain": [
       "datetime.timedelta(days=-1, seconds=61200)"
      ]
     },
     "execution_count": 34,
     "metadata": {},
     "output_type": "execute_result"
    }
   ],
   "source": [
    "ti.offset"
   ]
  },
  {
   "cell_type": "code",
   "execution_count": 35,
   "id": "convertible-therapist",
   "metadata": {},
   "outputs": [],
   "source": [
    "ti.minutes = -58"
   ]
  },
  {
   "cell_type": "code",
   "execution_count": 36,
   "id": "quality-sustainability",
   "metadata": {},
   "outputs": [
    {
     "data": {
      "text/plain": [
       "TimeZone(name=MST, hours=-7, minutes=-58)"
      ]
     },
     "execution_count": 36,
     "metadata": {},
     "output_type": "execute_result"
    }
   ],
   "source": [
    "ti"
   ]
  },
  {
   "cell_type": "code",
   "execution_count": 40,
   "id": "meaningful-height",
   "metadata": {
    "scrolled": true
   },
   "outputs": [
    {
     "ename": "ValueError",
     "evalue": "Balance must be a non-negative real number",
     "output_type": "error",
     "traceback": [
      "\u001b[1;31m---------------------------------------------------------------------------\u001b[0m",
      "\u001b[1;31mValueError\u001b[0m                                Traceback (most recent call last)",
      "\u001b[1;32m<ipython-input-40-d1a1dd16cd78>\u001b[0m in \u001b[0;36m<module>\u001b[1;34m\u001b[0m\n\u001b[1;32m----> 1\u001b[1;33m \u001b[0macc\u001b[0m \u001b[1;33m=\u001b[0m \u001b[0mAccount\u001b[0m\u001b[1;33m(\u001b[0m\u001b[1;36m1\u001b[0m\u001b[1;33m,\u001b[0m \u001b[1;34m'Syed'\u001b[0m\u001b[1;33m,\u001b[0m \u001b[1;34m'Hyder'\u001b[0m\u001b[1;33m,\u001b[0m \u001b[0mtz\u001b[0m\u001b[1;33m=\u001b[0m\u001b[0mti\u001b[0m\u001b[1;33m,\u001b[0m \u001b[0mbalance\u001b[0m\u001b[1;33m=\u001b[0m\u001b[0mDecimal\u001b[0m\u001b[1;33m(\u001b[0m\u001b[1;33m-\u001b[0m\u001b[1;36m1000.1\u001b[0m\u001b[1;33m)\u001b[0m\u001b[1;33m)\u001b[0m\u001b[1;33m\u001b[0m\u001b[1;33m\u001b[0m\u001b[0m\n\u001b[0m",
      "\u001b[1;32m<ipython-input-31-48e61d856381>\u001b[0m in \u001b[0;36m__init__\u001b[1;34m(self, account_num, first_name, last_name, tz, balance)\u001b[0m\n\u001b[0;32m     68\u001b[0m \u001b[1;33m\u001b[0m\u001b[0m\n\u001b[0;32m     69\u001b[0m         \u001b[1;32mif\u001b[0m \u001b[1;32mnot\u001b[0m\u001b[1;33m(\u001b[0m\u001b[0misinstance\u001b[0m\u001b[1;33m(\u001b[0m\u001b[0mbalance\u001b[0m\u001b[1;33m,\u001b[0m \u001b[0mReal\u001b[0m\u001b[1;33m)\u001b[0m \u001b[1;32mor\u001b[0m \u001b[0misinstance\u001b[0m\u001b[1;33m(\u001b[0m\u001b[0mbalance\u001b[0m\u001b[1;33m,\u001b[0m \u001b[0mDecimal\u001b[0m\u001b[1;33m)\u001b[0m\u001b[1;33m)\u001b[0m \u001b[1;32mor\u001b[0m \u001b[0mbalance\u001b[0m \u001b[1;33m<\u001b[0m \u001b[1;36m0\u001b[0m\u001b[1;33m:\u001b[0m\u001b[1;33m\u001b[0m\u001b[1;33m\u001b[0m\u001b[0m\n\u001b[1;32m---> 70\u001b[1;33m             \u001b[1;32mraise\u001b[0m \u001b[0mValueError\u001b[0m\u001b[1;33m(\u001b[0m\u001b[1;34m'Balance must be a non-negative real number'\u001b[0m\u001b[1;33m)\u001b[0m\u001b[1;33m\u001b[0m\u001b[1;33m\u001b[0m\u001b[0m\n\u001b[0m\u001b[0;32m     71\u001b[0m         \u001b[1;32melse\u001b[0m\u001b[1;33m:\u001b[0m\u001b[1;33m\u001b[0m\u001b[1;33m\u001b[0m\u001b[0m\n\u001b[0;32m     72\u001b[0m             \u001b[0mself\u001b[0m\u001b[1;33m.\u001b[0m\u001b[0m_balance\u001b[0m \u001b[1;33m=\u001b[0m \u001b[0mbalance\u001b[0m\u001b[1;33m\u001b[0m\u001b[1;33m\u001b[0m\u001b[0m\n",
      "\u001b[1;31mValueError\u001b[0m: Balance must be a non-negative real number"
     ]
    }
   ],
   "source": [
    "acc = Account(1, 'Syed', 'Hyder', tz=ti, balance=Decimal(-1000.1))"
   ]
  },
  {
   "cell_type": "code",
   "execution_count": 41,
   "id": "present-fleece",
   "metadata": {},
   "outputs": [
    {
     "ename": "TypeError",
     "evalue": "Invalid TimeZone object passed",
     "output_type": "error",
     "traceback": [
      "\u001b[1;31m---------------------------------------------------------------------------\u001b[0m",
      "\u001b[1;31mTypeError\u001b[0m                                 Traceback (most recent call last)",
      "\u001b[1;32m<ipython-input-41-83b24f17fd9d>\u001b[0m in \u001b[0;36m<module>\u001b[1;34m\u001b[0m\n\u001b[1;32m----> 1\u001b[1;33m \u001b[0macc\u001b[0m \u001b[1;33m=\u001b[0m \u001b[0mAccount\u001b[0m\u001b[1;33m(\u001b[0m\u001b[1;36m1\u001b[0m\u001b[1;33m,\u001b[0m \u001b[1;34m'Syed'\u001b[0m\u001b[1;33m,\u001b[0m \u001b[1;34m'Hyder'\u001b[0m\u001b[1;33m,\u001b[0m \u001b[0mtz\u001b[0m\u001b[1;33m=\u001b[0m\u001b[1;34m'H'\u001b[0m\u001b[1;33m,\u001b[0m \u001b[0mbalance\u001b[0m\u001b[1;33m=\u001b[0m\u001b[1;36m100.1\u001b[0m\u001b[1;33m)\u001b[0m\u001b[1;33m\u001b[0m\u001b[1;33m\u001b[0m\u001b[0m\n\u001b[0m",
      "\u001b[1;32m<ipython-input-31-48e61d856381>\u001b[0m in \u001b[0;36m__init__\u001b[1;34m(self, account_num, first_name, last_name, tz, balance)\u001b[0m\n\u001b[0;32m     65\u001b[0m         \u001b[0mself\u001b[0m\u001b[1;33m.\u001b[0m\u001b[0mfirst_name\u001b[0m \u001b[1;33m=\u001b[0m \u001b[0mfirst_name\u001b[0m\u001b[1;33m\u001b[0m\u001b[1;33m\u001b[0m\u001b[0m\n\u001b[0;32m     66\u001b[0m         \u001b[0mself\u001b[0m\u001b[1;33m.\u001b[0m\u001b[0mlast_name\u001b[0m \u001b[1;33m=\u001b[0m \u001b[0mlast_name\u001b[0m\u001b[1;33m\u001b[0m\u001b[1;33m\u001b[0m\u001b[0m\n\u001b[1;32m---> 67\u001b[1;33m         \u001b[0mself\u001b[0m\u001b[1;33m.\u001b[0m\u001b[0mset_tz\u001b[0m\u001b[1;33m(\u001b[0m\u001b[0mtz\u001b[0m\u001b[1;33m)\u001b[0m\u001b[1;33m\u001b[0m\u001b[1;33m\u001b[0m\u001b[0m\n\u001b[0m\u001b[0;32m     68\u001b[0m \u001b[1;33m\u001b[0m\u001b[0m\n\u001b[0;32m     69\u001b[0m         \u001b[1;32mif\u001b[0m \u001b[1;32mnot\u001b[0m\u001b[1;33m(\u001b[0m\u001b[0misinstance\u001b[0m\u001b[1;33m(\u001b[0m\u001b[0mbalance\u001b[0m\u001b[1;33m,\u001b[0m \u001b[0mReal\u001b[0m\u001b[1;33m)\u001b[0m \u001b[1;32mor\u001b[0m \u001b[0misinstance\u001b[0m\u001b[1;33m(\u001b[0m\u001b[0mbalance\u001b[0m\u001b[1;33m,\u001b[0m \u001b[0mDecimal\u001b[0m\u001b[1;33m)\u001b[0m\u001b[1;33m)\u001b[0m \u001b[1;32mor\u001b[0m \u001b[0mbalance\u001b[0m \u001b[1;33m<\u001b[0m \u001b[1;36m0\u001b[0m\u001b[1;33m:\u001b[0m\u001b[1;33m\u001b[0m\u001b[1;33m\u001b[0m\u001b[0m\n",
      "\u001b[1;32m<ipython-input-31-48e61d856381>\u001b[0m in \u001b[0;36mset_tz\u001b[1;34m(cls, tz)\u001b[0m\n\u001b[0;32m    114\u001b[0m             \u001b[0mtz\u001b[0m \u001b[1;33m=\u001b[0m \u001b[0mtimezone\u001b[0m\u001b[1;33m(\u001b[0m\u001b[0mtz\u001b[0m\u001b[1;33m.\u001b[0m\u001b[0moffset\u001b[0m\u001b[1;33m,\u001b[0m \u001b[0mtz\u001b[0m\u001b[1;33m.\u001b[0m\u001b[0mname\u001b[0m\u001b[1;33m)\u001b[0m\u001b[1;33m\u001b[0m\u001b[1;33m\u001b[0m\u001b[0m\n\u001b[0;32m    115\u001b[0m         \u001b[1;32mif\u001b[0m \u001b[1;32mnot\u001b[0m \u001b[0misinstance\u001b[0m\u001b[1;33m(\u001b[0m\u001b[0mtz\u001b[0m\u001b[1;33m,\u001b[0m \u001b[0mtimezone\u001b[0m\u001b[1;33m)\u001b[0m\u001b[1;33m:\u001b[0m\u001b[1;33m\u001b[0m\u001b[1;33m\u001b[0m\u001b[0m\n\u001b[1;32m--> 116\u001b[1;33m             \u001b[1;32mraise\u001b[0m \u001b[0mTypeError\u001b[0m\u001b[1;33m(\u001b[0m\u001b[1;34m'Invalid TimeZone object passed'\u001b[0m\u001b[1;33m)\u001b[0m\u001b[1;33m\u001b[0m\u001b[1;33m\u001b[0m\u001b[0m\n\u001b[0m\u001b[0;32m    117\u001b[0m         \u001b[0mcls\u001b[0m\u001b[1;33m.\u001b[0m\u001b[0m_tz\u001b[0m \u001b[1;33m=\u001b[0m \u001b[0mtz\u001b[0m\u001b[1;33m\u001b[0m\u001b[1;33m\u001b[0m\u001b[0m\n\u001b[0;32m    118\u001b[0m \u001b[1;33m\u001b[0m\u001b[0m\n",
      "\u001b[1;31mTypeError\u001b[0m: Invalid TimeZone object passed"
     ]
    }
   ],
   "source": [
    "acc = Account(1, 'Syed', 'Hyder', tz='H', balance=100.1)"
   ]
  },
  {
   "cell_type": "code",
   "execution_count": 42,
   "id": "exotic-sacramento",
   "metadata": {},
   "outputs": [],
   "source": [
    "acc = Account(1, 'Syed', 'Hyder', tz=ti, balance=100.1)"
   ]
  },
  {
   "cell_type": "code",
   "execution_count": 43,
   "id": "emotional-invasion",
   "metadata": {},
   "outputs": [
    {
     "data": {
      "text/plain": [
       "100.1"
      ]
     },
     "execution_count": 43,
     "metadata": {},
     "output_type": "execute_result"
    }
   ],
   "source": [
    "acc.balance"
   ]
  },
  {
   "cell_type": "code",
   "execution_count": 44,
   "id": "otherwise-phase",
   "metadata": {},
   "outputs": [
    {
     "data": {
      "text/plain": [
       "datetime.timezone(datetime.timedelta(days=-1, seconds=57720), 'MST')"
      ]
     },
     "execution_count": 44,
     "metadata": {},
     "output_type": "execute_result"
    }
   ],
   "source": [
    "acc.get_tz()"
   ]
  },
  {
   "cell_type": "code",
   "execution_count": 45,
   "id": "retired-speech",
   "metadata": {},
   "outputs": [],
   "source": [
    "acc.set_tz(timezone.utc)"
   ]
  },
  {
   "cell_type": "code",
   "execution_count": 46,
   "id": "flexible-length",
   "metadata": {},
   "outputs": [
    {
     "data": {
      "text/plain": [
       "datetime.timezone.utc"
      ]
     },
     "execution_count": 46,
     "metadata": {},
     "output_type": "execute_result"
    }
   ],
   "source": [
    "acc.get_tz()"
   ]
  },
  {
   "cell_type": "code",
   "execution_count": 47,
   "id": "unusual-sweet",
   "metadata": {},
   "outputs": [
    {
     "data": {
      "text/plain": [
       "'Syed Hyder'"
      ]
     },
     "execution_count": 47,
     "metadata": {},
     "output_type": "execute_result"
    }
   ],
   "source": [
    "acc.full_name"
   ]
  },
  {
   "cell_type": "code",
   "execution_count": 48,
   "id": "advisory-juvenile",
   "metadata": {},
   "outputs": [
    {
     "data": {
      "text/plain": [
       "mappingproxy({'__module__': '__main__',\n",
       "              '__init__': <function __main__.Account.__init__(self, account_num, first_name, last_name, *, tz=datetime.timezone.utc, balance=0)>,\n",
       "              'account_number': <property at 0x2976dc69d60>,\n",
       "              'first_name': <property at 0x2976dc6b2c0>,\n",
       "              'last_name': <property at 0x2976dc6b310>,\n",
       "              'full_name': <property at 0x2976dc69f40>,\n",
       "              'balance': <property at 0x2976dc6b270>,\n",
       "              'set_tz': <classmethod at 0x2976dbc6550>,\n",
       "              'get_tz': <classmethod at 0x2976dbc6ca0>,\n",
       "              '__repr__': <function __main__.Account.__repr__(self)>,\n",
       "              '__dict__': <attribute '__dict__' of 'Account' objects>,\n",
       "              '__weakref__': <attribute '__weakref__' of 'Account' objects>,\n",
       "              '__doc__': None,\n",
       "              '_tz': datetime.timezone.utc})"
      ]
     },
     "execution_count": 48,
     "metadata": {},
     "output_type": "execute_result"
    }
   ],
   "source": [
    "Account.__dict__"
   ]
  },
  {
   "cell_type": "code",
   "execution_count": null,
   "id": "transsexual-ground",
   "metadata": {},
   "outputs": [],
   "source": []
  },
  {
   "cell_type": "code",
   "execution_count": null,
   "id": "global-injury",
   "metadata": {},
   "outputs": [],
   "source": []
  },
  {
   "cell_type": "code",
   "execution_count": null,
   "id": "international-correction",
   "metadata": {},
   "outputs": [],
   "source": []
  },
  {
   "cell_type": "code",
   "execution_count": null,
   "id": "enhanced-image",
   "metadata": {},
   "outputs": [],
   "source": []
  },
  {
   "cell_type": "code",
   "execution_count": null,
   "id": "intermediate-raleigh",
   "metadata": {},
   "outputs": [],
   "source": []
  },
  {
   "cell_type": "code",
   "execution_count": null,
   "id": "greatest-register",
   "metadata": {},
   "outputs": [],
   "source": []
  },
  {
   "cell_type": "code",
   "execution_count": null,
   "id": "posted-tourism",
   "metadata": {},
   "outputs": [],
   "source": []
  },
  {
   "cell_type": "code",
   "execution_count": 74,
   "id": "premier-texas",
   "metadata": {},
   "outputs": [],
   "source": [
    "from numbers import Real\n",
    "from decimal import Decimal\n",
    "from fractions import Fraction\n",
    "from datetime import datetime, timezone, timedelta\n",
    "\n",
    "\n",
    "\n",
    "class TransactionAbort(Exception):\n",
    "    pass\n",
    "\n",
    "\n",
    "\n",
    "class TimeZone:\n",
    "    def __init__(self, name, hours, minutes):\n",
    "        self.name = name\n",
    "        self.hours = hours\n",
    "        self.minutes = minutes\n",
    "        \n",
    "    @property\n",
    "    def name(self):\n",
    "        return self._name\n",
    "    \n",
    "    @name.setter\n",
    "    def name(self, value):\n",
    "        if not isinstance(value, str) or len(value) < 1:\n",
    "            raise ValueError('Invalid name for TimeZone')\n",
    "        else:\n",
    "            self._name = value\n",
    "            \n",
    "    @property\n",
    "    def hours(self):\n",
    "        return self._hours\n",
    "    \n",
    "    @hours.setter\n",
    "    def hours(self, value):\n",
    "        if not isinstance(value, int) or value >= 24 or value <= -24:\n",
    "            raise ValueError('Hours can only have integer values from -23 to 23')\n",
    "        else:\n",
    "            self._hours = value\n",
    "            \n",
    "    @property\n",
    "    def minutes(self):\n",
    "        return self._minutes\n",
    "    \n",
    "    @minutes.setter\n",
    "    def minutes(self, value):\n",
    "        if not isinstance(value, int) or value >= 60 or value <= -60:\n",
    "            raise ValueError('Minutes can only have integer values from -59 to 59')\n",
    "        else:\n",
    "            self._minutes = value\n",
    "            \n",
    "    @property\n",
    "    def offset(self):\n",
    "        return timedelta(hours=self.hours, minutes=self.minutes)\n",
    "    \n",
    "\n",
    "    def __repr__(self):\n",
    "        return f'TimeZone(name={self.name}, hours={self.hours}, minutes={self.minutes})'\n",
    "\n",
    "\n",
    "    \n",
    "\n",
    "    \n",
    "    \n",
    "\n",
    "class Account:\n",
    "    def __init__(self, account_num, first_name, last_name, *, tz=timezone.utc, balance=0):\n",
    "        self._account_num = account_num\n",
    "        self.first_name = first_name\n",
    "        self.last_name = last_name\n",
    "        self.set_tz(tz)\n",
    "        \n",
    "        if not(isinstance(balance, Real) or isinstance(balance, Decimal)) or balance < 0:\n",
    "            raise ValueError('Balance must be a non-negative real number')\n",
    "        else:\n",
    "            self._balance = balance\n",
    "        \n",
    "    @property\n",
    "    def account_number(self):\n",
    "        return self._account_num\n",
    "    \n",
    "    @property\n",
    "    def first_name(self):\n",
    "        return self._first_name\n",
    "    \n",
    "    @first_name.setter\n",
    "    def first_name(self, name):\n",
    "        if not isinstance(name, str):\n",
    "            raise TypeError('Name should only be a string')\n",
    "        elif len(name) < 1:\n",
    "            raise ValueError('First Name should be atleast 1 character long')\n",
    "        else:\n",
    "            self._first_name = name.strip()\n",
    "            \n",
    "    @property\n",
    "    def last_name(self):\n",
    "        return self._last_name\n",
    "    \n",
    "    @last_name.setter\n",
    "    def last_name(self, name):\n",
    "        if not isinstance(name, str):\n",
    "            raise TypeError('Name should only be a string')\n",
    "        else:\n",
    "            self._last_name = name.strip()\n",
    "            \n",
    "    @property\n",
    "    def full_name(self):\n",
    "        return f'{self.first_name} {self.last_name}'\n",
    "    \n",
    "    \n",
    "    @property\n",
    "    def balance(self):\n",
    "        return self._balance\n",
    "    \n",
    "    @classmethod\n",
    "    def set_tz(cls, tz):\n",
    "        if isinstance(tz, TimeZone):\n",
    "            tz = timezone(tz.offset, tz.name)\n",
    "        if not isinstance(tz, timezone):\n",
    "            raise TypeError('Invalid TimeZone object passed')\n",
    "        cls._tz = tz\n",
    "        \n",
    "    @classmethod\n",
    "    def get_tz(cls):\n",
    "        return cls._tz\n",
    "    \n",
    "    \n",
    "    def deposit(self, value):\n",
    "        if not(isinstance(value, Real) or isinstance(value, Decimal)) or value < 0:\n",
    "            raise ValueError('Deposit amount must be a non-negative real number')\n",
    "        else:\n",
    "            self._balance += value\n",
    "            \n",
    "    def withdraw(self, value):\n",
    "        if not(isinstance(value, Real) or isinstance(value, Decimal)) or value < 0:\n",
    "            raise ValueError('Withdrawal amount must be a non-negative real number')\n",
    "        elif self._balance - value < 0:\n",
    "            raise TransactionAbort('Insufficient balance')\n",
    "        else:\n",
    "            self._balance -= value\n",
    "            \n",
    "        \n",
    "    def __repr__(self):\n",
    "        return f'Account(name={self.full_name}, balance={self.balance})'"
   ]
  },
  {
   "cell_type": "code",
   "execution_count": 75,
   "id": "proof-november",
   "metadata": {},
   "outputs": [],
   "source": [
    "acc = Account(1234, 'Syed', 'Hyder', balance=1000)"
   ]
  },
  {
   "cell_type": "code",
   "execution_count": 76,
   "id": "friendly-rescue",
   "metadata": {},
   "outputs": [
    {
     "data": {
      "text/plain": [
       "Account(name=Syed Hyder, balance=1000)"
      ]
     },
     "execution_count": 76,
     "metadata": {},
     "output_type": "execute_result"
    }
   ],
   "source": [
    "acc"
   ]
  },
  {
   "cell_type": "code",
   "execution_count": 77,
   "id": "convinced-shadow",
   "metadata": {},
   "outputs": [],
   "source": [
    "acc.deposit(15)"
   ]
  },
  {
   "cell_type": "code",
   "execution_count": 78,
   "id": "muslim-minnesota",
   "metadata": {},
   "outputs": [
    {
     "data": {
      "text/plain": [
       "Account(name=Syed Hyder, balance=1015)"
      ]
     },
     "execution_count": 78,
     "metadata": {},
     "output_type": "execute_result"
    }
   ],
   "source": [
    "acc"
   ]
  },
  {
   "cell_type": "code",
   "execution_count": 79,
   "id": "listed-handy",
   "metadata": {},
   "outputs": [],
   "source": [
    "acc.withdraw(1015)"
   ]
  },
  {
   "cell_type": "code",
   "execution_count": 80,
   "id": "romantic-transaction",
   "metadata": {},
   "outputs": [
    {
     "data": {
      "text/plain": [
       "Account(name=Syed Hyder, balance=0)"
      ]
     },
     "execution_count": 80,
     "metadata": {},
     "output_type": "execute_result"
    }
   ],
   "source": [
    "acc"
   ]
  },
  {
   "cell_type": "code",
   "execution_count": 81,
   "id": "actual-lawrence",
   "metadata": {},
   "outputs": [
    {
     "ename": "TransactionAbort",
     "evalue": "Insufficient balance",
     "output_type": "error",
     "traceback": [
      "\u001b[1;31m---------------------------------------------------------------------------\u001b[0m",
      "\u001b[1;31mTransactionAbort\u001b[0m                          Traceback (most recent call last)",
      "\u001b[1;32m<ipython-input-81-ea19bca51bca>\u001b[0m in \u001b[0;36m<module>\u001b[1;34m\u001b[0m\n\u001b[1;32m----> 1\u001b[1;33m \u001b[0macc\u001b[0m\u001b[1;33m.\u001b[0m\u001b[0mwithdraw\u001b[0m\u001b[1;33m(\u001b[0m\u001b[1;36m100\u001b[0m\u001b[1;33m)\u001b[0m\u001b[1;33m\u001b[0m\u001b[1;33m\u001b[0m\u001b[0m\n\u001b[0m",
      "\u001b[1;32m<ipython-input-74-e8dc509d0b43>\u001b[0m in \u001b[0;36mwithdraw\u001b[1;34m(self, value)\u001b[0m\n\u001b[0;32m    136\u001b[0m             \u001b[1;32mraise\u001b[0m \u001b[0mValueError\u001b[0m\u001b[1;33m(\u001b[0m\u001b[1;34m'Withdrawal amount must be a non-negative real number'\u001b[0m\u001b[1;33m)\u001b[0m\u001b[1;33m\u001b[0m\u001b[1;33m\u001b[0m\u001b[0m\n\u001b[0;32m    137\u001b[0m         \u001b[1;32melif\u001b[0m \u001b[0mself\u001b[0m\u001b[1;33m.\u001b[0m\u001b[0m_balance\u001b[0m \u001b[1;33m-\u001b[0m \u001b[0mvalue\u001b[0m \u001b[1;33m<\u001b[0m \u001b[1;36m0\u001b[0m\u001b[1;33m:\u001b[0m\u001b[1;33m\u001b[0m\u001b[1;33m\u001b[0m\u001b[0m\n\u001b[1;32m--> 138\u001b[1;33m             \u001b[1;32mraise\u001b[0m \u001b[0mTransactionAbort\u001b[0m\u001b[1;33m(\u001b[0m\u001b[1;34m'Insufficient balance'\u001b[0m\u001b[1;33m)\u001b[0m\u001b[1;33m\u001b[0m\u001b[1;33m\u001b[0m\u001b[0m\n\u001b[0m\u001b[0;32m    139\u001b[0m         \u001b[1;32melse\u001b[0m\u001b[1;33m:\u001b[0m\u001b[1;33m\u001b[0m\u001b[1;33m\u001b[0m\u001b[0m\n\u001b[0;32m    140\u001b[0m             \u001b[0mself\u001b[0m\u001b[1;33m.\u001b[0m\u001b[0m_balance\u001b[0m \u001b[1;33m-=\u001b[0m \u001b[0mvalue\u001b[0m\u001b[1;33m\u001b[0m\u001b[1;33m\u001b[0m\u001b[0m\n",
      "\u001b[1;31mTransactionAbort\u001b[0m: Insufficient balance"
     ]
    }
   ],
   "source": [
    "acc.withdraw(100)"
   ]
  },
  {
   "cell_type": "code",
   "execution_count": 82,
   "id": "visible-twins",
   "metadata": {},
   "outputs": [
    {
     "data": {
      "text/plain": [
       "Account(name=Syed Hyder, balance=0)"
      ]
     },
     "execution_count": 82,
     "metadata": {},
     "output_type": "execute_result"
    }
   ],
   "source": [
    "acc"
   ]
  },
  {
   "cell_type": "code",
   "execution_count": 83,
   "id": "increased-booking",
   "metadata": {},
   "outputs": [
    {
     "ename": "ValueError",
     "evalue": "Deposit amount must be a non-negative real number",
     "output_type": "error",
     "traceback": [
      "\u001b[1;31m---------------------------------------------------------------------------\u001b[0m",
      "\u001b[1;31mValueError\u001b[0m                                Traceback (most recent call last)",
      "\u001b[1;32m<ipython-input-83-94af594975eb>\u001b[0m in \u001b[0;36m<module>\u001b[1;34m\u001b[0m\n\u001b[1;32m----> 1\u001b[1;33m \u001b[0macc\u001b[0m\u001b[1;33m.\u001b[0m\u001b[0mdeposit\u001b[0m\u001b[1;33m(\u001b[0m\u001b[1;33m-\u001b[0m\u001b[1;36m5\u001b[0m\u001b[1;33m)\u001b[0m\u001b[1;33m\u001b[0m\u001b[1;33m\u001b[0m\u001b[0m\n\u001b[0m",
      "\u001b[1;32m<ipython-input-74-e8dc509d0b43>\u001b[0m in \u001b[0;36mdeposit\u001b[1;34m(self, value)\u001b[0m\n\u001b[0;32m    128\u001b[0m     \u001b[1;32mdef\u001b[0m \u001b[0mdeposit\u001b[0m\u001b[1;33m(\u001b[0m\u001b[0mself\u001b[0m\u001b[1;33m,\u001b[0m \u001b[0mvalue\u001b[0m\u001b[1;33m)\u001b[0m\u001b[1;33m:\u001b[0m\u001b[1;33m\u001b[0m\u001b[1;33m\u001b[0m\u001b[0m\n\u001b[0;32m    129\u001b[0m         \u001b[1;32mif\u001b[0m \u001b[1;32mnot\u001b[0m\u001b[1;33m(\u001b[0m\u001b[0misinstance\u001b[0m\u001b[1;33m(\u001b[0m\u001b[0mvalue\u001b[0m\u001b[1;33m,\u001b[0m \u001b[0mReal\u001b[0m\u001b[1;33m)\u001b[0m \u001b[1;32mor\u001b[0m \u001b[0misinstance\u001b[0m\u001b[1;33m(\u001b[0m\u001b[0mvalue\u001b[0m\u001b[1;33m,\u001b[0m \u001b[0mDecimal\u001b[0m\u001b[1;33m)\u001b[0m\u001b[1;33m)\u001b[0m \u001b[1;32mor\u001b[0m \u001b[0mvalue\u001b[0m \u001b[1;33m<\u001b[0m \u001b[1;36m0\u001b[0m\u001b[1;33m:\u001b[0m\u001b[1;33m\u001b[0m\u001b[1;33m\u001b[0m\u001b[0m\n\u001b[1;32m--> 130\u001b[1;33m             \u001b[1;32mraise\u001b[0m \u001b[0mValueError\u001b[0m\u001b[1;33m(\u001b[0m\u001b[1;34m'Deposit amount must be a non-negative real number'\u001b[0m\u001b[1;33m)\u001b[0m\u001b[1;33m\u001b[0m\u001b[1;33m\u001b[0m\u001b[0m\n\u001b[0m\u001b[0;32m    131\u001b[0m         \u001b[1;32melse\u001b[0m\u001b[1;33m:\u001b[0m\u001b[1;33m\u001b[0m\u001b[1;33m\u001b[0m\u001b[0m\n\u001b[0;32m    132\u001b[0m             \u001b[0mself\u001b[0m\u001b[1;33m.\u001b[0m\u001b[0m_balance\u001b[0m \u001b[1;33m+=\u001b[0m \u001b[0mvalue\u001b[0m\u001b[1;33m\u001b[0m\u001b[1;33m\u001b[0m\u001b[0m\n",
      "\u001b[1;31mValueError\u001b[0m: Deposit amount must be a non-negative real number"
     ]
    }
   ],
   "source": [
    "acc.deposit(-5)"
   ]
  },
  {
   "cell_type": "code",
   "execution_count": 84,
   "id": "classical-store",
   "metadata": {},
   "outputs": [],
   "source": [
    "acc.deposit(100)"
   ]
  },
  {
   "cell_type": "code",
   "execution_count": 85,
   "id": "entitled-alexandria",
   "metadata": {},
   "outputs": [
    {
     "data": {
      "text/plain": [
       "Account(name=Syed Hyder, balance=100)"
      ]
     },
     "execution_count": 85,
     "metadata": {},
     "output_type": "execute_result"
    }
   ],
   "source": [
    "acc"
   ]
  },
  {
   "cell_type": "code",
   "execution_count": 86,
   "id": "prescription-methodology",
   "metadata": {},
   "outputs": [
    {
     "ename": "TransactionAbort",
     "evalue": "Insufficient balance",
     "output_type": "error",
     "traceback": [
      "\u001b[1;31m---------------------------------------------------------------------------\u001b[0m",
      "\u001b[1;31mTransactionAbort\u001b[0m                          Traceback (most recent call last)",
      "\u001b[1;32m<ipython-input-86-2e75e4823628>\u001b[0m in \u001b[0;36m<module>\u001b[1;34m\u001b[0m\n\u001b[1;32m----> 1\u001b[1;33m \u001b[0macc\u001b[0m\u001b[1;33m.\u001b[0m\u001b[0mwithdraw\u001b[0m\u001b[1;33m(\u001b[0m\u001b[1;36m500\u001b[0m\u001b[1;33m)\u001b[0m\u001b[1;33m\u001b[0m\u001b[1;33m\u001b[0m\u001b[0m\n\u001b[0m",
      "\u001b[1;32m<ipython-input-74-e8dc509d0b43>\u001b[0m in \u001b[0;36mwithdraw\u001b[1;34m(self, value)\u001b[0m\n\u001b[0;32m    136\u001b[0m             \u001b[1;32mraise\u001b[0m \u001b[0mValueError\u001b[0m\u001b[1;33m(\u001b[0m\u001b[1;34m'Withdrawal amount must be a non-negative real number'\u001b[0m\u001b[1;33m)\u001b[0m\u001b[1;33m\u001b[0m\u001b[1;33m\u001b[0m\u001b[0m\n\u001b[0;32m    137\u001b[0m         \u001b[1;32melif\u001b[0m \u001b[0mself\u001b[0m\u001b[1;33m.\u001b[0m\u001b[0m_balance\u001b[0m \u001b[1;33m-\u001b[0m \u001b[0mvalue\u001b[0m \u001b[1;33m<\u001b[0m \u001b[1;36m0\u001b[0m\u001b[1;33m:\u001b[0m\u001b[1;33m\u001b[0m\u001b[1;33m\u001b[0m\u001b[0m\n\u001b[1;32m--> 138\u001b[1;33m             \u001b[1;32mraise\u001b[0m \u001b[0mTransactionAbort\u001b[0m\u001b[1;33m(\u001b[0m\u001b[1;34m'Insufficient balance'\u001b[0m\u001b[1;33m)\u001b[0m\u001b[1;33m\u001b[0m\u001b[1;33m\u001b[0m\u001b[0m\n\u001b[0m\u001b[0;32m    139\u001b[0m         \u001b[1;32melse\u001b[0m\u001b[1;33m:\u001b[0m\u001b[1;33m\u001b[0m\u001b[1;33m\u001b[0m\u001b[0m\n\u001b[0;32m    140\u001b[0m             \u001b[0mself\u001b[0m\u001b[1;33m.\u001b[0m\u001b[0m_balance\u001b[0m \u001b[1;33m-=\u001b[0m \u001b[0mvalue\u001b[0m\u001b[1;33m\u001b[0m\u001b[1;33m\u001b[0m\u001b[0m\n",
      "\u001b[1;31mTransactionAbort\u001b[0m: Insufficient balance"
     ]
    }
   ],
   "source": [
    "acc.withdraw(500)"
   ]
  },
  {
   "cell_type": "code",
   "execution_count": 87,
   "id": "tutorial-fairy",
   "metadata": {},
   "outputs": [
    {
     "data": {
      "text/plain": [
       "Account(name=Syed Hyder, balance=100)"
      ]
     },
     "execution_count": 87,
     "metadata": {},
     "output_type": "execute_result"
    }
   ],
   "source": [
    "acc"
   ]
  },
  {
   "cell_type": "code",
   "execution_count": null,
   "id": "driven-attraction",
   "metadata": {},
   "outputs": [],
   "source": []
  },
  {
   "cell_type": "code",
   "execution_count": null,
   "id": "senior-harvard",
   "metadata": {},
   "outputs": [],
   "source": []
  },
  {
   "cell_type": "code",
   "execution_count": null,
   "id": "korean-statement",
   "metadata": {},
   "outputs": [],
   "source": []
  },
  {
   "cell_type": "code",
   "execution_count": null,
   "id": "specialized-madrid",
   "metadata": {},
   "outputs": [],
   "source": []
  },
  {
   "cell_type": "code",
   "execution_count": 4,
   "id": "smart-remains",
   "metadata": {},
   "outputs": [],
   "source": [
    "from numbers import Real\n",
    "from decimal import Decimal\n",
    "from fractions import Fraction\n",
    "from datetime import datetime, timezone, timedelta\n",
    "\n",
    "\n",
    "\n",
    "class TransactionAbort(Exception):\n",
    "    pass\n",
    "\n",
    "\n",
    "\n",
    "class TimeZone:\n",
    "    def __init__(self, name, hours, minutes):\n",
    "        self.name = name\n",
    "        self.hours = hours\n",
    "        self.minutes = minutes\n",
    "        \n",
    "    @property\n",
    "    def name(self):\n",
    "        return self._name\n",
    "    \n",
    "    @name.setter\n",
    "    def name(self, value):\n",
    "        if not isinstance(value, str) or len(value) < 1:\n",
    "            raise ValueError('Invalid name for TimeZone')\n",
    "        else:\n",
    "            self._name = value\n",
    "            \n",
    "    @property\n",
    "    def hours(self):\n",
    "        return self._hours\n",
    "    \n",
    "    @hours.setter\n",
    "    def hours(self, value):\n",
    "        if not isinstance(value, int) or value >= 24 or value <= -24:\n",
    "            raise ValueError('Hours can only have integer values from -23 to 23')\n",
    "        else:\n",
    "            self._hours = value\n",
    "            \n",
    "    @property\n",
    "    def minutes(self):\n",
    "        return self._minutes\n",
    "    \n",
    "    @minutes.setter\n",
    "    def minutes(self, value):\n",
    "        if not isinstance(value, int) or value >= 60 or value <= -60:\n",
    "            raise ValueError('Minutes can only have integer values from -59 to 59')\n",
    "        else:\n",
    "            self._minutes = value\n",
    "            \n",
    "    @property\n",
    "    def offset(self):\n",
    "        return timedelta(hours=self.hours, minutes=self.minutes)\n",
    "    \n",
    "\n",
    "    def __repr__(self):\n",
    "        return f'TimeZone(name={self.name}, hours={self.hours}, minutes={self.minutes})'\n",
    "\n",
    "\n",
    "    \n",
    "\n",
    "    \n",
    "    \n",
    "\n",
    "class Account:\n",
    "    \n",
    "    interest_rate = 0.5\n",
    "    \n",
    "    def __init__(self, account_num, first_name, last_name, *, tz=timezone.utc, balance=0):\n",
    "        self._account_num = account_num\n",
    "        self.first_name = first_name\n",
    "        self.last_name = last_name\n",
    "        self.set_tz(tz)\n",
    "        \n",
    "        if not(isinstance(balance, Real) or isinstance(balance, Decimal)) or balance < 0:\n",
    "            raise ValueError('Balance must be a non-negative real number')\n",
    "        else:\n",
    "            self._balance = balance\n",
    "        \n",
    "    @property\n",
    "    def account_number(self):\n",
    "        return self._account_num\n",
    "    \n",
    "    @property\n",
    "    def first_name(self):\n",
    "        return self._first_name\n",
    "    \n",
    "    @first_name.setter\n",
    "    def first_name(self, name):\n",
    "        if not isinstance(name, str):\n",
    "            raise TypeError('Name should only be a string')\n",
    "        elif len(name) < 1:\n",
    "            raise ValueError('First Name should be atleast 1 character long')\n",
    "        else:\n",
    "            self._first_name = name.strip()\n",
    "            \n",
    "    @property\n",
    "    def last_name(self):\n",
    "        return self._last_name\n",
    "    \n",
    "    @last_name.setter\n",
    "    def last_name(self, name):\n",
    "        if not isinstance(name, str):\n",
    "            raise TypeError('Name should only be a string')\n",
    "        else:\n",
    "            self._last_name = name.strip()\n",
    "            \n",
    "    @property\n",
    "    def full_name(self):\n",
    "        return f'{self.first_name} {self.last_name}'\n",
    "    \n",
    "    \n",
    "    @property\n",
    "    def balance(self):\n",
    "        return self._balance\n",
    "    \n",
    "    @classmethod\n",
    "    def get_tz(cls):\n",
    "        return cls._tz\n",
    "    \n",
    "    @classmethod\n",
    "    def set_tz(cls, tz):\n",
    "        if isinstance(tz, TimeZone):\n",
    "            tz = timezone(tz.offset, tz.name)\n",
    "        if not isinstance(tz, timezone):\n",
    "            raise TypeError('Invalid TimeZone object passed')\n",
    "        cls._tz = tz\n",
    "    \n",
    "    \n",
    "    def deposit(self, value):\n",
    "        if not(isinstance(value, Real) or isinstance(value, Decimal)) or value < 0:\n",
    "            raise ValueError('Deposit amount must be a non-negative real number')\n",
    "        else:\n",
    "            self._balance += value\n",
    "            \n",
    "    def withdraw(self, value):\n",
    "        if not(isinstance(value, Real) or isinstance(value, Decimal)) or value < 0:\n",
    "            raise ValueError('Withdrawal amount must be a non-negative real number')\n",
    "        elif self._balance - value < 0:\n",
    "            raise TransactionAbort('Insufficient balance')\n",
    "        else:\n",
    "            self._balance -= value\n",
    "            \n",
    "    def pay_monthly_interest(self):\n",
    "        interest_amount = self.balance * (self.interest_rate / 100)\n",
    "        self._balance += interest_amount\n",
    "        \n",
    "        \n",
    "    def __repr__(self):\n",
    "        return f'Account(name={self.full_name}, balance={self.balance})'"
   ]
  },
  {
   "cell_type": "code",
   "execution_count": 5,
   "id": "annoying-touch",
   "metadata": {},
   "outputs": [],
   "source": [
    "t = TimeZone('GST', 10, -5)"
   ]
  },
  {
   "cell_type": "code",
   "execution_count": 6,
   "id": "minimal-outline",
   "metadata": {},
   "outputs": [
    {
     "data": {
      "text/plain": [
       "TimeZone(name=GST, hours=10, minutes=-5)"
      ]
     },
     "execution_count": 6,
     "metadata": {},
     "output_type": "execute_result"
    }
   ],
   "source": [
    "t"
   ]
  },
  {
   "cell_type": "code",
   "execution_count": 7,
   "id": "bridal-discrimination",
   "metadata": {},
   "outputs": [],
   "source": [
    "acc = Account(1234, 'Syed', 'Hyder', tz=t, balance=1000)"
   ]
  },
  {
   "cell_type": "code",
   "execution_count": 8,
   "id": "tired-wilson",
   "metadata": {},
   "outputs": [
    {
     "data": {
      "text/plain": [
       "Account(name=Syed Hyder, balance=1000)"
      ]
     },
     "execution_count": 8,
     "metadata": {},
     "output_type": "execute_result"
    }
   ],
   "source": [
    "acc"
   ]
  },
  {
   "cell_type": "code",
   "execution_count": 9,
   "id": "contemporary-bible",
   "metadata": {},
   "outputs": [],
   "source": [
    "acc.pay_monthly_interest()"
   ]
  },
  {
   "cell_type": "code",
   "execution_count": 10,
   "id": "continued-sculpture",
   "metadata": {},
   "outputs": [
    {
     "data": {
      "text/plain": [
       "Account(name=Syed Hyder, balance=1005.0)"
      ]
     },
     "execution_count": 10,
     "metadata": {},
     "output_type": "execute_result"
    }
   ],
   "source": [
    "acc"
   ]
  },
  {
   "cell_type": "code",
   "execution_count": 11,
   "id": "sophisticated-porter",
   "metadata": {},
   "outputs": [],
   "source": [
    "acc.withdraw(1000)"
   ]
  },
  {
   "cell_type": "code",
   "execution_count": 12,
   "id": "subtle-aggregate",
   "metadata": {},
   "outputs": [
    {
     "data": {
      "text/plain": [
       "Account(name=Syed Hyder, balance=5.0)"
      ]
     },
     "execution_count": 12,
     "metadata": {},
     "output_type": "execute_result"
    }
   ],
   "source": [
    "acc"
   ]
  },
  {
   "cell_type": "code",
   "execution_count": 13,
   "id": "stone-audience",
   "metadata": {},
   "outputs": [],
   "source": [
    "acc.deposit(10)"
   ]
  },
  {
   "cell_type": "code",
   "execution_count": 14,
   "id": "alpha-photograph",
   "metadata": {},
   "outputs": [
    {
     "data": {
      "text/plain": [
       "Account(name=Syed Hyder, balance=15.0)"
      ]
     },
     "execution_count": 14,
     "metadata": {},
     "output_type": "execute_result"
    }
   ],
   "source": [
    "acc"
   ]
  },
  {
   "cell_type": "code",
   "execution_count": 15,
   "id": "lined-logging",
   "metadata": {},
   "outputs": [
    {
     "ename": "TransactionAbort",
     "evalue": "Insufficient balance",
     "output_type": "error",
     "traceback": [
      "\u001b[1;31m---------------------------------------------------------------------------\u001b[0m",
      "\u001b[1;31mTransactionAbort\u001b[0m                          Traceback (most recent call last)",
      "\u001b[1;32m<ipython-input-15-eac10c9ed024>\u001b[0m in \u001b[0;36m<module>\u001b[1;34m\u001b[0m\n\u001b[1;32m----> 1\u001b[1;33m \u001b[0macc\u001b[0m\u001b[1;33m.\u001b[0m\u001b[0mwithdraw\u001b[0m\u001b[1;33m(\u001b[0m\u001b[1;36m16\u001b[0m\u001b[1;33m)\u001b[0m\u001b[1;33m\u001b[0m\u001b[1;33m\u001b[0m\u001b[0m\n\u001b[0m",
      "\u001b[1;32m<ipython-input-4-a3e20ecce2d3>\u001b[0m in \u001b[0;36mwithdraw\u001b[1;34m(self, value)\u001b[0m\n\u001b[0;32m    139\u001b[0m             \u001b[1;32mraise\u001b[0m \u001b[0mValueError\u001b[0m\u001b[1;33m(\u001b[0m\u001b[1;34m'Withdrawal amount must be a non-negative real number'\u001b[0m\u001b[1;33m)\u001b[0m\u001b[1;33m\u001b[0m\u001b[1;33m\u001b[0m\u001b[0m\n\u001b[0;32m    140\u001b[0m         \u001b[1;32melif\u001b[0m \u001b[0mself\u001b[0m\u001b[1;33m.\u001b[0m\u001b[0m_balance\u001b[0m \u001b[1;33m-\u001b[0m \u001b[0mvalue\u001b[0m \u001b[1;33m<\u001b[0m \u001b[1;36m0\u001b[0m\u001b[1;33m:\u001b[0m\u001b[1;33m\u001b[0m\u001b[1;33m\u001b[0m\u001b[0m\n\u001b[1;32m--> 141\u001b[1;33m             \u001b[1;32mraise\u001b[0m \u001b[0mTransactionAbort\u001b[0m\u001b[1;33m(\u001b[0m\u001b[1;34m'Insufficient balance'\u001b[0m\u001b[1;33m)\u001b[0m\u001b[1;33m\u001b[0m\u001b[1;33m\u001b[0m\u001b[0m\n\u001b[0m\u001b[0;32m    142\u001b[0m         \u001b[1;32melse\u001b[0m\u001b[1;33m:\u001b[0m\u001b[1;33m\u001b[0m\u001b[1;33m\u001b[0m\u001b[0m\n\u001b[0;32m    143\u001b[0m             \u001b[0mself\u001b[0m\u001b[1;33m.\u001b[0m\u001b[0m_balance\u001b[0m \u001b[1;33m-=\u001b[0m \u001b[0mvalue\u001b[0m\u001b[1;33m\u001b[0m\u001b[1;33m\u001b[0m\u001b[0m\n",
      "\u001b[1;31mTransactionAbort\u001b[0m: Insufficient balance"
     ]
    }
   ],
   "source": [
    "acc.withdraw(16)"
   ]
  },
  {
   "cell_type": "code",
   "execution_count": 17,
   "id": "dedicated-custom",
   "metadata": {},
   "outputs": [],
   "source": [
    "acc.withdraw(15.000000)"
   ]
  },
  {
   "cell_type": "code",
   "execution_count": 18,
   "id": "precious-jacob",
   "metadata": {},
   "outputs": [
    {
     "data": {
      "text/plain": [
       "Account(name=Syed Hyder, balance=0.0)"
      ]
     },
     "execution_count": 18,
     "metadata": {},
     "output_type": "execute_result"
    }
   ],
   "source": [
    "acc"
   ]
  },
  {
   "cell_type": "code",
   "execution_count": 19,
   "id": "mexican-functionality",
   "metadata": {},
   "outputs": [],
   "source": [
    "acc.pay_monthly_interest()"
   ]
  },
  {
   "cell_type": "code",
   "execution_count": 20,
   "id": "unknown-bloom",
   "metadata": {},
   "outputs": [
    {
     "data": {
      "text/plain": [
       "Account(name=Syed Hyder, balance=0.0)"
      ]
     },
     "execution_count": 20,
     "metadata": {},
     "output_type": "execute_result"
    }
   ],
   "source": [
    "acc"
   ]
  },
  {
   "cell_type": "code",
   "execution_count": 21,
   "id": "seven-rebel",
   "metadata": {},
   "outputs": [],
   "source": [
    "acc.deposit(100)"
   ]
  },
  {
   "cell_type": "code",
   "execution_count": 22,
   "id": "afraid-behavior",
   "metadata": {},
   "outputs": [],
   "source": [
    "acc.pay_monthly_interest()"
   ]
  },
  {
   "cell_type": "code",
   "execution_count": 23,
   "id": "pretty-vault",
   "metadata": {},
   "outputs": [
    {
     "data": {
      "text/plain": [
       "Account(name=Syed Hyder, balance=100.5)"
      ]
     },
     "execution_count": 23,
     "metadata": {},
     "output_type": "execute_result"
    }
   ],
   "source": [
    "acc"
   ]
  },
  {
   "cell_type": "code",
   "execution_count": 24,
   "id": "established-tuner",
   "metadata": {},
   "outputs": [
    {
     "data": {
      "text/plain": [
       "TimeZone(name=GST, hours=10, minutes=-5)"
      ]
     },
     "execution_count": 24,
     "metadata": {},
     "output_type": "execute_result"
    }
   ],
   "source": [
    "t"
   ]
  },
  {
   "cell_type": "code",
   "execution_count": 25,
   "id": "liked-attention",
   "metadata": {},
   "outputs": [],
   "source": [
    "t = timezone(t.offset, t.name)"
   ]
  },
  {
   "cell_type": "code",
   "execution_count": 26,
   "id": "gorgeous-generation",
   "metadata": {},
   "outputs": [
    {
     "data": {
      "text/plain": [
       "datetime.timezone(datetime.timedelta(seconds=35700), 'GST')"
      ]
     },
     "execution_count": 26,
     "metadata": {},
     "output_type": "execute_result"
    }
   ],
   "source": [
    "t"
   ]
  },
  {
   "cell_type": "code",
   "execution_count": 27,
   "id": "overhead-sauce",
   "metadata": {},
   "outputs": [],
   "source": [
    "tim = datetime.utcnow()"
   ]
  },
  {
   "cell_type": "code",
   "execution_count": 28,
   "id": "sensitive-suspect",
   "metadata": {},
   "outputs": [
    {
     "data": {
      "text/plain": [
       "datetime.datetime(2021, 6, 8, 13, 52, 28, 64034)"
      ]
     },
     "execution_count": 28,
     "metadata": {},
     "output_type": "execute_result"
    }
   ],
   "source": [
    "tim"
   ]
  },
  {
   "cell_type": "code",
   "execution_count": 29,
   "id": "registered-luxembourg",
   "metadata": {},
   "outputs": [
    {
     "data": {
      "text/plain": [
       "datetime.datetime(2021, 6, 8, 18, 17, 28, 64034, tzinfo=datetime.timezone(datetime.timedelta(seconds=35700), 'GST'))"
      ]
     },
     "execution_count": 29,
     "metadata": {},
     "output_type": "execute_result"
    }
   ],
   "source": [
    "tim.astimezone(t)"
   ]
  },
  {
   "cell_type": "code",
   "execution_count": null,
   "id": "seven-producer",
   "metadata": {},
   "outputs": [],
   "source": []
  },
  {
   "cell_type": "code",
   "execution_count": null,
   "id": "lesbian-garage",
   "metadata": {},
   "outputs": [],
   "source": []
  },
  {
   "cell_type": "code",
   "execution_count": null,
   "id": "comparative-magazine",
   "metadata": {},
   "outputs": [],
   "source": []
  },
  {
   "cell_type": "code",
   "execution_count": null,
   "id": "quarterly-hydrogen",
   "metadata": {},
   "outputs": [],
   "source": []
  },
  {
   "cell_type": "code",
   "execution_count": 30,
   "id": "nutritional-flash",
   "metadata": {},
   "outputs": [],
   "source": [
    "from numbers import Real\n",
    "from decimal import Decimal\n",
    "from fractions import Fraction\n",
    "from datetime import datetime, timezone, timedelta\n",
    "\n",
    "\n",
    "\n",
    "class TransactionAbort(Exception):\n",
    "    pass\n",
    "\n",
    "\n",
    "\n",
    "class TimeZone:\n",
    "    def __init__(self, name, hours, minutes):\n",
    "        self.name = name\n",
    "        self.hours = hours\n",
    "        self.minutes = minutes\n",
    "        \n",
    "    @property\n",
    "    def name(self):\n",
    "        return self._name\n",
    "    \n",
    "    @name.setter\n",
    "    def name(self, value):\n",
    "        if not isinstance(value, str) or len(value) < 1:\n",
    "            raise ValueError('Invalid name for TimeZone')\n",
    "        else:\n",
    "            self._name = value\n",
    "            \n",
    "    @property\n",
    "    def hours(self):\n",
    "        return self._hours\n",
    "    \n",
    "    @hours.setter\n",
    "    def hours(self, value):\n",
    "        if not isinstance(value, int) or value >= 24 or value <= -24:\n",
    "            raise ValueError('Hours can only have integer values from -23 to 23')\n",
    "        else:\n",
    "            self._hours = value\n",
    "            \n",
    "    @property\n",
    "    def minutes(self):\n",
    "        return self._minutes\n",
    "    \n",
    "    @minutes.setter\n",
    "    def minutes(self, value):\n",
    "        if not isinstance(value, int) or value >= 60 or value <= -60:\n",
    "            raise ValueError('Minutes can only have integer values from -59 to 59')\n",
    "        else:\n",
    "            self._minutes = value\n",
    "            \n",
    "    @property\n",
    "    def offset(self):\n",
    "        return timedelta(hours=self.hours, minutes=self.minutes)\n",
    "    \n",
    "\n",
    "    def __repr__(self):\n",
    "        return f'TimeZone(name={self.name}, hours={self.hours}, minutes={self.minutes})'\n",
    "\n",
    "\n",
    "class TransactionNumber:\n",
    "    trans_num = -1\n",
    "    \n",
    "    def __init__(self, trans_type, account_num):\n",
    "        self.trans_type = trans_type\n",
    "        self.account_num = account_num\n",
    "        self.utc_time = datetime.utcnow()\n",
    "        self.inc_trans_num()\n",
    "\n",
    "    @classmethod\n",
    "    def inc_trans_num(cls):\n",
    "        cls.trans_num += 1\n",
    "    \n",
    "    @property\n",
    "    def transaction_id(self):\n",
    "        return self.utc_time\n",
    "    \n",
    "\n",
    "class Account:    \n",
    "    interest_rate = 0.5\n",
    "    \n",
    "    def __init__(self, account_num, first_name, last_name, *, tz=timezone.utc, balance=0):\n",
    "        self._account_num = account_num\n",
    "        self.first_name = first_name\n",
    "        self.last_name = last_name\n",
    "        self.set_tz(tz)\n",
    "        \n",
    "        if not(isinstance(balance, Real) or isinstance(balance, Decimal)) or balance < 0:\n",
    "            raise ValueError('Balance must be a non-negative real number')\n",
    "        else:\n",
    "            self._balance = balance\n",
    "        \n",
    "    @property\n",
    "    def account_number(self):\n",
    "        return self._account_num\n",
    "    \n",
    "    @property\n",
    "    def first_name(self):\n",
    "        return self._first_name\n",
    "    \n",
    "    @first_name.setter\n",
    "    def first_name(self, name):\n",
    "        if not isinstance(name, str):\n",
    "            raise TypeError('Name should only be a string')\n",
    "        elif len(name) < 1:\n",
    "            raise ValueError('First Name should be atleast 1 character long')\n",
    "        else:\n",
    "            self._first_name = name.strip()\n",
    "            \n",
    "    @property\n",
    "    def last_name(self):\n",
    "        return self._last_name\n",
    "    \n",
    "    @last_name.setter\n",
    "    def last_name(self, name):\n",
    "        if not isinstance(name, str):\n",
    "            raise TypeError('Name should only be a string')\n",
    "        else:\n",
    "            self._last_name = name.strip()\n",
    "            \n",
    "    @property\n",
    "    def full_name(self):\n",
    "        return f'{self.first_name} {self.last_name}'\n",
    "    \n",
    "    \n",
    "    @property\n",
    "    def balance(self):\n",
    "        return self._balance\n",
    "    \n",
    "    @classmethod\n",
    "    def get_tz(cls):\n",
    "        return cls._tz\n",
    "    \n",
    "    @classmethod\n",
    "    def set_tz(cls, tz):\n",
    "        if isinstance(tz, TimeZone):\n",
    "            tz = timezone(tz.offset, tz.name)\n",
    "        if not isinstance(tz, timezone):\n",
    "            raise TypeError('Invalid TimeZone object passed')\n",
    "        cls._tz = tz\n",
    "    \n",
    "    \n",
    "    def deposit(self, value):\n",
    "        if not(isinstance(value, Real) or isinstance(value, Decimal)) or value < 0:\n",
    "            raise ValueError('Deposit amount must be a non-negative real number')\n",
    "        else:\n",
    "            self._balance += value\n",
    "            return TransactionNumber('D', self.account_number)\n",
    "            \n",
    "    def withdraw(self, value):\n",
    "        if not(isinstance(value, Real) or isinstance(value, Decimal)) or value < 0:\n",
    "            raise ValueError('Withdrawal amount must be a non-negative real number')\n",
    "        elif self._balance - value < 0:\n",
    "            raise TransactionAbort('Insufficient balance')\n",
    "        else:\n",
    "            self._balance -= value\n",
    "            \n",
    "    def pay_monthly_interest(self):\n",
    "        interest_amount = self.balance * (self.interest_rate / 100)\n",
    "        self._balance += interest_amount\n",
    "        \n",
    "        \n",
    "    def __repr__(self):\n",
    "        return f'Account(name={self.full_name}, balance={self.balance})'"
   ]
  },
  {
   "cell_type": "code",
   "execution_count": 52,
   "id": "eligible-puzzle",
   "metadata": {},
   "outputs": [],
   "source": [
    "acc = Account(1243, 'Syed', 'Hyder')"
   ]
  },
  {
   "cell_type": "code",
   "execution_count": 53,
   "id": "mysterious-pursuit",
   "metadata": {},
   "outputs": [
    {
     "data": {
      "text/plain": [
       "Account(name=Syed Hyder, balance=0)"
      ]
     },
     "execution_count": 53,
     "metadata": {},
     "output_type": "execute_result"
    }
   ],
   "source": [
    "acc"
   ]
  },
  {
   "cell_type": "code",
   "execution_count": 54,
   "id": "amber-contamination",
   "metadata": {},
   "outputs": [],
   "source": [
    "trans_id = acc.deposit(10)"
   ]
  },
  {
   "cell_type": "code",
   "execution_count": 48,
   "id": "egyptian-wrong",
   "metadata": {},
   "outputs": [
    {
     "data": {
      "text/plain": [
       "'20210608140653'"
      ]
     },
     "execution_count": 48,
     "metadata": {},
     "output_type": "execute_result"
    }
   ],
   "source": [
    "datetime.strftime(trans_id.transaction_id, '%Y%m%d%H%m%S')"
   ]
  },
  {
   "cell_type": "code",
   "execution_count": 49,
   "id": "representative-emphasis",
   "metadata": {},
   "outputs": [
    {
     "data": {
      "text/plain": [
       "'2021-06-08T14:09:53.045093'"
      ]
     },
     "execution_count": 49,
     "metadata": {},
     "output_type": "execute_result"
    }
   ],
   "source": [
    "trans_id.transaction_id.isoformat()"
   ]
  },
  {
   "cell_type": "code",
   "execution_count": 55,
   "id": "vietnamese-toilet",
   "metadata": {},
   "outputs": [
    {
     "data": {
      "text/plain": [
       "3"
      ]
     },
     "execution_count": 55,
     "metadata": {},
     "output_type": "execute_result"
    }
   ],
   "source": [
    "trans_id.trans_num"
   ]
  },
  {
   "cell_type": "code",
   "execution_count": null,
   "id": "younger-vanilla",
   "metadata": {},
   "outputs": [],
   "source": []
  },
  {
   "cell_type": "code",
   "execution_count": null,
   "id": "certain-shopper",
   "metadata": {},
   "outputs": [],
   "source": []
  },
  {
   "cell_type": "code",
   "execution_count": null,
   "id": "incident-audience",
   "metadata": {},
   "outputs": [],
   "source": []
  },
  {
   "cell_type": "code",
   "execution_count": 56,
   "id": "split-contrary",
   "metadata": {},
   "outputs": [],
   "source": [
    "from numbers import Real\n",
    "from decimal import Decimal\n",
    "from fractions import Fraction\n",
    "from datetime import datetime, timezone, timedelta\n",
    "\n",
    "\n",
    "\n",
    "class TransactionAbort(Exception):\n",
    "    pass\n",
    "\n",
    "\n",
    "\n",
    "class TimeZone:\n",
    "    def __init__(self, name, hours, minutes):\n",
    "        self.name = name\n",
    "        self.hours = hours\n",
    "        self.minutes = minutes\n",
    "        \n",
    "    @property\n",
    "    def name(self):\n",
    "        return self._name\n",
    "    \n",
    "    @name.setter\n",
    "    def name(self, value):\n",
    "        if not isinstance(value, str) or len(value) < 1:\n",
    "            raise ValueError('Invalid name for TimeZone')\n",
    "        else:\n",
    "            self._name = value\n",
    "            \n",
    "    @property\n",
    "    def hours(self):\n",
    "        return self._hours\n",
    "    \n",
    "    @hours.setter\n",
    "    def hours(self, value):\n",
    "        if not isinstance(value, int) or value >= 24 or value <= -24:\n",
    "            raise ValueError('Hours can only have integer values from -23 to 23')\n",
    "        else:\n",
    "            self._hours = value\n",
    "            \n",
    "    @property\n",
    "    def minutes(self):\n",
    "        return self._minutes\n",
    "    \n",
    "    @minutes.setter\n",
    "    def minutes(self, value):\n",
    "        if not isinstance(value, int) or value >= 60 or value <= -60:\n",
    "            raise ValueError('Minutes can only have integer values from -59 to 59')\n",
    "        else:\n",
    "            self._minutes = value\n",
    "            \n",
    "    @property\n",
    "    def offset(self):\n",
    "        return timedelta(hours=self.hours, minutes=self.minutes)\n",
    "    \n",
    "\n",
    "    def __repr__(self):\n",
    "        return f'TimeZone(name={self.name}, hours={self.hours}, minutes={self.minutes})'\n",
    "\n",
    "\n",
    "    \n",
    "    \n",
    "    \n",
    "    \n",
    "    \n",
    "    \n",
    "    \n",
    "    \n",
    "class TransactionID:\n",
    "    trans_num = -1\n",
    "    \n",
    "    def __init__(self, trans_code, account_num):\n",
    "        self._codes = 'DWIX'\n",
    "        self.trans_code = trans_code\n",
    "        self.trans_type = self._codes[self.trans_code]\n",
    "        self.account_num = account_num\n",
    "        self.utc_time = datetime.utcnow()\n",
    "        self.inc_trans_num()\n",
    "\n",
    "    @classmethod\n",
    "    def inc_trans_num(cls):\n",
    "        cls.trans_num += 1\n",
    "    \n",
    "    @property\n",
    "    def transaction_num(self):\n",
    "        formatted_dt = datetime.strftime(self.utc_time, '%Y%m%d%H%m%S')\n",
    "        return f'{self.trans_type}-{self.account_num}-{formatted_dt}-{self.trans_num}'\n",
    "    \n",
    "    def __repr__(self):\n",
    "        return f'TransactionID({self.transaction_num})'\n",
    "    \n",
    "    \n",
    "    \n",
    "    \n",
    "    \n",
    "    \n",
    "    \n",
    "    \n",
    "    \n",
    "\n",
    "class Account:    \n",
    "    interest_rate = 0.5\n",
    "    \n",
    "    def __init__(self, account_num, first_name, last_name, *, tz=timezone.utc, balance=0):\n",
    "        self._account_num = account_num\n",
    "        self.first_name = first_name\n",
    "        self.last_name = last_name\n",
    "        self.set_tz(tz)\n",
    "        \n",
    "        if not(isinstance(balance, Real) or isinstance(balance, Decimal)) or balance < 0:\n",
    "            raise ValueError('Balance must be a non-negative real number')\n",
    "        else:\n",
    "            self._balance = balance\n",
    "        \n",
    "    @property\n",
    "    def account_number(self):\n",
    "        return self._account_num\n",
    "    \n",
    "    @property\n",
    "    def first_name(self):\n",
    "        return self._first_name\n",
    "    \n",
    "    @first_name.setter\n",
    "    def first_name(self, name):\n",
    "        if not isinstance(name, str):\n",
    "            raise TypeError('Name should only be a string')\n",
    "        elif len(name) < 1:\n",
    "            raise ValueError('First Name should be atleast 1 character long')\n",
    "        else:\n",
    "            self._first_name = name.strip()\n",
    "            \n",
    "    @property\n",
    "    def last_name(self):\n",
    "        return self._last_name\n",
    "    \n",
    "    @last_name.setter\n",
    "    def last_name(self, name):\n",
    "        if not isinstance(name, str):\n",
    "            raise TypeError('Name should only be a string')\n",
    "        else:\n",
    "            self._last_name = name.strip()\n",
    "            \n",
    "    @property\n",
    "    def full_name(self):\n",
    "        return f'{self.first_name} {self.last_name}'\n",
    "    \n",
    "    \n",
    "    @property\n",
    "    def balance(self):\n",
    "        return self._balance\n",
    "    \n",
    "    @classmethod\n",
    "    def get_tz(cls):\n",
    "        return cls._tz\n",
    "    \n",
    "    @classmethod\n",
    "    def set_tz(cls, tz):\n",
    "        if isinstance(tz, TimeZone):\n",
    "            tz = timezone(tz.offset, tz.name)\n",
    "        if not isinstance(tz, timezone):\n",
    "            raise TypeError('Invalid TimeZone object passed')\n",
    "        cls._tz = tz\n",
    "    \n",
    "    \n",
    "    def deposit(self, value):\n",
    "        if not(isinstance(value, Real) or isinstance(value, Decimal)) or value < 0:\n",
    "            raise ValueError('Deposit amount must be a non-negative real number')\n",
    "        else:\n",
    "            self._balance += value\n",
    "            return TransactionID(0, self.account_number)\n",
    "            \n",
    "    def withdraw(self, value):\n",
    "        if not(isinstance(value, Real) or isinstance(value, Decimal)) or value < 0:\n",
    "            raise ValueError('Withdrawal amount must be a non-negative real number')\n",
    "        elif self._balance - value < 0:\n",
    "            raise TransactionAbort(f'Insufficient balance: {TransactionID(3, self.account_number)}')\n",
    "        else:\n",
    "            self._balance -= value\n",
    "            return TransactionID(1, self.account_number)\n",
    "            \n",
    "    def pay_monthly_interest(self):\n",
    "        interest_amount = self.balance * (self.interest_rate / 100)\n",
    "        self._balance += interest_amount\n",
    "        return TransactionID(2, self.account_number)\n",
    "        \n",
    "        \n",
    "    def __repr__(self):\n",
    "        return f'Account(name={self.full_name}, balance={self.balance})'"
   ]
  },
  {
   "cell_type": "code",
   "execution_count": 57,
   "id": "classical-tower",
   "metadata": {},
   "outputs": [],
   "source": [
    "acc = Account(140568, 'Syed', 'Hyder')"
   ]
  },
  {
   "cell_type": "code",
   "execution_count": 58,
   "id": "floating-found",
   "metadata": {},
   "outputs": [
    {
     "data": {
      "text/plain": [
       "Account(name=Syed Hyder, balance=0)"
      ]
     },
     "execution_count": 58,
     "metadata": {},
     "output_type": "execute_result"
    }
   ],
   "source": [
    "acc"
   ]
  },
  {
   "cell_type": "code",
   "execution_count": 59,
   "id": "capital-spyware",
   "metadata": {},
   "outputs": [
    {
     "data": {
      "text/plain": [
       "TransactionID(D-140568-20210608140627-0)"
      ]
     },
     "execution_count": 59,
     "metadata": {},
     "output_type": "execute_result"
    }
   ],
   "source": [
    "acc.deposit(1000)"
   ]
  },
  {
   "cell_type": "code",
   "execution_count": 60,
   "id": "parliamentary-magnitude",
   "metadata": {},
   "outputs": [
    {
     "data": {
      "text/plain": [
       "TransactionID(I-140568-20210608140638-1)"
      ]
     },
     "execution_count": 60,
     "metadata": {},
     "output_type": "execute_result"
    }
   ],
   "source": [
    "acc.pay_monthly_interest()"
   ]
  },
  {
   "cell_type": "code",
   "execution_count": 61,
   "id": "animated-employer",
   "metadata": {},
   "outputs": [
    {
     "data": {
      "text/plain": [
       "Account(name=Syed Hyder, balance=1005.0)"
      ]
     },
     "execution_count": 61,
     "metadata": {},
     "output_type": "execute_result"
    }
   ],
   "source": [
    "acc"
   ]
  },
  {
   "cell_type": "code",
   "execution_count": 62,
   "id": "interim-ribbon",
   "metadata": {},
   "outputs": [
    {
     "ename": "TransactionAbort",
     "evalue": "Insufficient balance: TransactionID(X-140568-20210608140617-2)",
     "output_type": "error",
     "traceback": [
      "\u001b[1;31m---------------------------------------------------------------------------\u001b[0m",
      "\u001b[1;31mTransactionAbort\u001b[0m                          Traceback (most recent call last)",
      "\u001b[1;32m<ipython-input-62-c548176f0ca7>\u001b[0m in \u001b[0;36m<module>\u001b[1;34m\u001b[0m\n\u001b[1;32m----> 1\u001b[1;33m \u001b[0macc\u001b[0m\u001b[1;33m.\u001b[0m\u001b[0mwithdraw\u001b[0m\u001b[1;33m(\u001b[0m\u001b[1;36m10055\u001b[0m\u001b[1;33m)\u001b[0m\u001b[1;33m\u001b[0m\u001b[1;33m\u001b[0m\u001b[0m\n\u001b[0m",
      "\u001b[1;32m<ipython-input-56-6bb1329966eb>\u001b[0m in \u001b[0;36mwithdraw\u001b[1;34m(self, value)\u001b[0m\n\u001b[0;32m    174\u001b[0m             \u001b[1;32mraise\u001b[0m \u001b[0mValueError\u001b[0m\u001b[1;33m(\u001b[0m\u001b[1;34m'Withdrawal amount must be a non-negative real number'\u001b[0m\u001b[1;33m)\u001b[0m\u001b[1;33m\u001b[0m\u001b[1;33m\u001b[0m\u001b[0m\n\u001b[0;32m    175\u001b[0m         \u001b[1;32melif\u001b[0m \u001b[0mself\u001b[0m\u001b[1;33m.\u001b[0m\u001b[0m_balance\u001b[0m \u001b[1;33m-\u001b[0m \u001b[0mvalue\u001b[0m \u001b[1;33m<\u001b[0m \u001b[1;36m0\u001b[0m\u001b[1;33m:\u001b[0m\u001b[1;33m\u001b[0m\u001b[1;33m\u001b[0m\u001b[0m\n\u001b[1;32m--> 176\u001b[1;33m             \u001b[1;32mraise\u001b[0m \u001b[0mTransactionAbort\u001b[0m\u001b[1;33m(\u001b[0m\u001b[1;34mf'Insufficient balance: {TransactionID(3, self.account_number)}'\u001b[0m\u001b[1;33m)\u001b[0m\u001b[1;33m\u001b[0m\u001b[1;33m\u001b[0m\u001b[0m\n\u001b[0m\u001b[0;32m    177\u001b[0m         \u001b[1;32melse\u001b[0m\u001b[1;33m:\u001b[0m\u001b[1;33m\u001b[0m\u001b[1;33m\u001b[0m\u001b[0m\n\u001b[0;32m    178\u001b[0m             \u001b[0mself\u001b[0m\u001b[1;33m.\u001b[0m\u001b[0m_balance\u001b[0m \u001b[1;33m-=\u001b[0m \u001b[0mvalue\u001b[0m\u001b[1;33m\u001b[0m\u001b[1;33m\u001b[0m\u001b[0m\n",
      "\u001b[1;31mTransactionAbort\u001b[0m: Insufficient balance: TransactionID(X-140568-20210608140617-2)"
     ]
    }
   ],
   "source": [
    "acc.withdraw(10055)"
   ]
  },
  {
   "cell_type": "code",
   "execution_count": 63,
   "id": "molecular-blame",
   "metadata": {},
   "outputs": [
    {
     "data": {
      "text/plain": [
       "Account(name=Syed Hyder, balance=1005.0)"
      ]
     },
     "execution_count": 63,
     "metadata": {},
     "output_type": "execute_result"
    }
   ],
   "source": [
    "acc"
   ]
  },
  {
   "cell_type": "code",
   "execution_count": 64,
   "id": "administrative-treaty",
   "metadata": {},
   "outputs": [
    {
     "data": {
      "text/plain": [
       "TransactionID(W-140568-20210608140643-3)"
      ]
     },
     "execution_count": 64,
     "metadata": {},
     "output_type": "execute_result"
    }
   ],
   "source": [
    "acc.withdraw(100)"
   ]
  },
  {
   "cell_type": "code",
   "execution_count": 65,
   "id": "brief-journalism",
   "metadata": {},
   "outputs": [],
   "source": [
    "for _ in range(5):\n",
    "    acc.withdraw(100)"
   ]
  },
  {
   "cell_type": "code",
   "execution_count": 66,
   "id": "hollywood-smell",
   "metadata": {},
   "outputs": [
    {
     "data": {
      "text/plain": [
       "Account(name=Syed Hyder, balance=405.0)"
      ]
     },
     "execution_count": 66,
     "metadata": {},
     "output_type": "execute_result"
    }
   ],
   "source": [
    "acc"
   ]
  },
  {
   "cell_type": "code",
   "execution_count": 67,
   "id": "bigger-biodiversity",
   "metadata": {},
   "outputs": [
    {
     "data": {
      "text/plain": [
       "TransactionID(W-140568-20210608140623-9)"
      ]
     },
     "execution_count": 67,
     "metadata": {},
     "output_type": "execute_result"
    }
   ],
   "source": [
    "acc.withdraw(50)"
   ]
  },
  {
   "cell_type": "code",
   "execution_count": 68,
   "id": "sealed-borough",
   "metadata": {},
   "outputs": [
    {
     "data": {
      "text/plain": [
       "Account(name=Syed Hyder, balance=355.0)"
      ]
     },
     "execution_count": 68,
     "metadata": {},
     "output_type": "execute_result"
    }
   ],
   "source": [
    "acc"
   ]
  },
  {
   "cell_type": "code",
   "execution_count": 69,
   "id": "cosmetic-minneapolis",
   "metadata": {},
   "outputs": [
    {
     "data": {
      "text/plain": [
       "TransactionID(I-140568-20210608140637-10)"
      ]
     },
     "execution_count": 69,
     "metadata": {},
     "output_type": "execute_result"
    }
   ],
   "source": [
    "acc.pay_monthly_interest()"
   ]
  },
  {
   "cell_type": "code",
   "execution_count": 70,
   "id": "intended-raising",
   "metadata": {},
   "outputs": [
    {
     "ename": "TransactionAbort",
     "evalue": "Insufficient balance: TransactionID(X-140568-20210608140650-11)",
     "output_type": "error",
     "traceback": [
      "\u001b[1;31m---------------------------------------------------------------------------\u001b[0m",
      "\u001b[1;31mTransactionAbort\u001b[0m                          Traceback (most recent call last)",
      "\u001b[1;32m<ipython-input-70-b13846a01b4a>\u001b[0m in \u001b[0;36m<module>\u001b[1;34m\u001b[0m\n\u001b[1;32m----> 1\u001b[1;33m \u001b[0macc\u001b[0m\u001b[1;33m.\u001b[0m\u001b[0mwithdraw\u001b[0m\u001b[1;33m(\u001b[0m\u001b[1;36m1000\u001b[0m\u001b[1;33m)\u001b[0m\u001b[1;33m\u001b[0m\u001b[1;33m\u001b[0m\u001b[0m\n\u001b[0m",
      "\u001b[1;32m<ipython-input-56-6bb1329966eb>\u001b[0m in \u001b[0;36mwithdraw\u001b[1;34m(self, value)\u001b[0m\n\u001b[0;32m    174\u001b[0m             \u001b[1;32mraise\u001b[0m \u001b[0mValueError\u001b[0m\u001b[1;33m(\u001b[0m\u001b[1;34m'Withdrawal amount must be a non-negative real number'\u001b[0m\u001b[1;33m)\u001b[0m\u001b[1;33m\u001b[0m\u001b[1;33m\u001b[0m\u001b[0m\n\u001b[0;32m    175\u001b[0m         \u001b[1;32melif\u001b[0m \u001b[0mself\u001b[0m\u001b[1;33m.\u001b[0m\u001b[0m_balance\u001b[0m \u001b[1;33m-\u001b[0m \u001b[0mvalue\u001b[0m \u001b[1;33m<\u001b[0m \u001b[1;36m0\u001b[0m\u001b[1;33m:\u001b[0m\u001b[1;33m\u001b[0m\u001b[1;33m\u001b[0m\u001b[0m\n\u001b[1;32m--> 176\u001b[1;33m             \u001b[1;32mraise\u001b[0m \u001b[0mTransactionAbort\u001b[0m\u001b[1;33m(\u001b[0m\u001b[1;34mf'Insufficient balance: {TransactionID(3, self.account_number)}'\u001b[0m\u001b[1;33m)\u001b[0m\u001b[1;33m\u001b[0m\u001b[1;33m\u001b[0m\u001b[0m\n\u001b[0m\u001b[0;32m    177\u001b[0m         \u001b[1;32melse\u001b[0m\u001b[1;33m:\u001b[0m\u001b[1;33m\u001b[0m\u001b[1;33m\u001b[0m\u001b[0m\n\u001b[0;32m    178\u001b[0m             \u001b[0mself\u001b[0m\u001b[1;33m.\u001b[0m\u001b[0m_balance\u001b[0m \u001b[1;33m-=\u001b[0m \u001b[0mvalue\u001b[0m\u001b[1;33m\u001b[0m\u001b[1;33m\u001b[0m\u001b[0m\n",
      "\u001b[1;31mTransactionAbort\u001b[0m: Insufficient balance: TransactionID(X-140568-20210608140650-11)"
     ]
    }
   ],
   "source": [
    "acc.withdraw(1000)"
   ]
  },
  {
   "cell_type": "code",
   "execution_count": 71,
   "id": "structured-sweden",
   "metadata": {},
   "outputs": [
    {
     "data": {
      "text/plain": [
       "0.5"
      ]
     },
     "execution_count": 71,
     "metadata": {},
     "output_type": "execute_result"
    }
   ],
   "source": [
    "Account.interest_rate"
   ]
  },
  {
   "cell_type": "code",
   "execution_count": 72,
   "id": "equipped-motivation",
   "metadata": {},
   "outputs": [
    {
     "data": {
      "text/plain": [
       "0.5"
      ]
     },
     "execution_count": 72,
     "metadata": {},
     "output_type": "execute_result"
    }
   ],
   "source": [
    "acc.interest_rate"
   ]
  },
  {
   "cell_type": "code",
   "execution_count": 73,
   "id": "express-soviet",
   "metadata": {},
   "outputs": [],
   "source": [
    "acc.interest_rate = 100000"
   ]
  },
  {
   "cell_type": "code",
   "execution_count": 74,
   "id": "eight-frequency",
   "metadata": {},
   "outputs": [
    {
     "data": {
      "text/plain": [
       "100000"
      ]
     },
     "execution_count": 74,
     "metadata": {},
     "output_type": "execute_result"
    }
   ],
   "source": [
    "acc.interest_rate"
   ]
  },
  {
   "cell_type": "code",
   "execution_count": 75,
   "id": "palestinian-flight",
   "metadata": {},
   "outputs": [
    {
     "data": {
      "text/plain": [
       "0.5"
      ]
     },
     "execution_count": 75,
     "metadata": {},
     "output_type": "execute_result"
    }
   ],
   "source": [
    "Account.interest_rate"
   ]
  },
  {
   "cell_type": "code",
   "execution_count": 76,
   "id": "inappropriate-eligibility",
   "metadata": {},
   "outputs": [
    {
     "data": {
      "text/plain": [
       "TransactionID(I-140568-20210608140600-12)"
      ]
     },
     "execution_count": 76,
     "metadata": {},
     "output_type": "execute_result"
    }
   ],
   "source": [
    "acc.pay_monthly_interest()"
   ]
  },
  {
   "cell_type": "code",
   "execution_count": 77,
   "id": "improved-clothing",
   "metadata": {},
   "outputs": [
    {
     "data": {
      "text/plain": [
       "Account(name=Syed Hyder, balance=357131.775)"
      ]
     },
     "execution_count": 77,
     "metadata": {},
     "output_type": "execute_result"
    }
   ],
   "source": [
    "acc"
   ]
  },
  {
   "cell_type": "code",
   "execution_count": 78,
   "id": "novel-cause",
   "metadata": {},
   "outputs": [
    {
     "data": {
      "text/plain": [
       "TransactionID(W-140568-20210608140621-13)"
      ]
     },
     "execution_count": 78,
     "metadata": {},
     "output_type": "execute_result"
    }
   ],
   "source": [
    "acc.withdraw(23500)"
   ]
  },
  {
   "cell_type": "code",
   "execution_count": null,
   "id": "statutory-tolerance",
   "metadata": {},
   "outputs": [],
   "source": []
  },
  {
   "cell_type": "code",
   "execution_count": 50,
   "id": "instant-prototype",
   "metadata": {},
   "outputs": [],
   "source": [
    "from numbers import Real\n",
    "from decimal import Decimal\n",
    "from fractions import Fraction\n",
    "from datetime import datetime, timezone, timedelta\n",
    "\n",
    "\n",
    "\n",
    "class TransactionAbort(Exception):\n",
    "    pass\n",
    "\n",
    "\n",
    "class TransactionCodeError(Exception):\n",
    "    pass\n",
    "\n",
    "\n",
    "\n",
    "class TimeZone:\n",
    "    def __init__(self, name, hours, minutes):\n",
    "        self.name = name\n",
    "        self.hours = hours\n",
    "        self.minutes = minutes\n",
    "        \n",
    "    @property\n",
    "    def name(self):\n",
    "        return self._name\n",
    "    \n",
    "    @name.setter\n",
    "    def name(self, value):\n",
    "        if not isinstance(value, str) or len(value) < 1:\n",
    "            raise ValueError('Invalid name for TimeZone')\n",
    "        else:\n",
    "            self._name = value\n",
    "            \n",
    "    @property\n",
    "    def hours(self):\n",
    "        return self._hours\n",
    "    \n",
    "    @hours.setter\n",
    "    def hours(self, value):\n",
    "        if not isinstance(value, int) or value >= 24 or value <= -24:\n",
    "            raise ValueError('Hours can only have integer values from -23 to 23')\n",
    "        else:\n",
    "            self._hours = value\n",
    "            \n",
    "    @property\n",
    "    def minutes(self):\n",
    "        return self._minutes\n",
    "    \n",
    "    @minutes.setter\n",
    "    def minutes(self, value):\n",
    "        if not isinstance(value, int) or value >= 60 or value <= -60:\n",
    "            raise ValueError('Minutes can only have integer values from -59 to 59')\n",
    "        else:\n",
    "            self._minutes = value\n",
    "            \n",
    "    @property\n",
    "    def offset(self):\n",
    "        return timedelta(hours=self.hours, minutes=self.minutes)\n",
    "    \n",
    "\n",
    "    def __repr__(self):\n",
    "        return f'TimeZone(name={self.name}, hours={self.hours}, minutes={self.minutes})'\n",
    "\n",
    "\n",
    "    \n",
    "    \n",
    "    \n",
    "    \n",
    "    \n",
    "    \n",
    "    \n",
    "    \n",
    "class TransactionID:\n",
    "    trans_num = -1\n",
    "    \n",
    "    def __init__(self, trans_code, account_num, *, utc_time=None, tz=None):\n",
    "        self._codes = 'DWIX'\n",
    "        self.trans_code = trans_code\n",
    "        self.trans_type = self._codes[self.trans_code]\n",
    "        self.account_num = account_num\n",
    "        self.utc_time = utc_time or datetime.utcnow()\n",
    "        self.tz = tz or timezone.utc\n",
    "        self.inc_trans_num()\n",
    "        \n",
    "    @property\n",
    "    def utc_time(self):\n",
    "        return self._utc_time\n",
    "    \n",
    "    @utc_time.setter\n",
    "    def utc_time(self, value):\n",
    "        if not isinstance(value, datetime):\n",
    "            self._utc_time = datetime.strptime(value, '%Y%m%d%H%M%S')\n",
    "        else:\n",
    "            self._utc_time = value\n",
    "            \n",
    "\n",
    "    @classmethod\n",
    "    def inc_trans_num(cls):\n",
    "        cls.trans_num += 1\n",
    "    \n",
    "    @property\n",
    "    def transaction_num(self):\n",
    "        formatted_dt = datetime.strftime(self.utc_time, '%Y%m%d%H%M%S')\n",
    "        return f'{self.trans_type}-{self.account_num}-{formatted_dt}-{self.trans_num}'\n",
    "    \n",
    "    @property\n",
    "    def time(self):\n",
    "        if self.tz is timezone.utc:\n",
    "            tz_time = self.utc_time\n",
    "            tz_name = 'UTC'\n",
    "        else:\n",
    "            tz_time = self.utc_time.astimezone(self.tz)\n",
    "            tz_name = tz_time.tzinfo\n",
    "        return datetime.strftime(tz_time, f'%Y-%m-%d %H:%M:%S({tz_name})')\n",
    "    \n",
    "    \n",
    "    @property\n",
    "    def time_utc(self):\n",
    "        return self.utc_time.isoformat()\n",
    "    \n",
    "    \n",
    "    def __repr__(self):\n",
    "        return f'TransactionID({self.transaction_num})'\n",
    "    \n",
    "    \n",
    "    \n",
    "    \n",
    "    \n",
    "    \n",
    "    \n",
    "    \n",
    "    \n",
    "\n",
    "class Account:    \n",
    "    interest_rate = 0.5\n",
    "    \n",
    "    def __init__(self, account_num, first_name, last_name, *, tz=timezone.utc, balance=0):\n",
    "        self._account_num = account_num\n",
    "        self.first_name = first_name\n",
    "        self.last_name = last_name\n",
    "        self.set_tz(tz)\n",
    "        \n",
    "        if not(isinstance(balance, Real) or isinstance(balance, Decimal)) or balance < 0:\n",
    "            raise ValueError('Balance must be a non-negative real number')\n",
    "        else:\n",
    "            self._balance = balance\n",
    "        \n",
    "    @property\n",
    "    def account_number(self):\n",
    "        return self._account_num\n",
    "    \n",
    "    @property\n",
    "    def first_name(self):\n",
    "        return self._first_name\n",
    "    \n",
    "    @first_name.setter\n",
    "    def first_name(self, name):\n",
    "        if not isinstance(name, str):\n",
    "            raise TypeError('Name should only be a string')\n",
    "        elif len(name) < 1:\n",
    "            raise ValueError('First Name should be atleast 1 character long')\n",
    "        else:\n",
    "            self._first_name = name.strip()\n",
    "            \n",
    "    @property\n",
    "    def last_name(self):\n",
    "        return self._last_name\n",
    "    \n",
    "    @last_name.setter\n",
    "    def last_name(self, name):\n",
    "        if not isinstance(name, str):\n",
    "            raise TypeError('Name should only be a string')\n",
    "        else:\n",
    "            self._last_name = name.strip()\n",
    "            \n",
    "    @property\n",
    "    def full_name(self):\n",
    "        return f'{self.first_name} {self.last_name}'\n",
    "    \n",
    "    \n",
    "    @property\n",
    "    def balance(self):\n",
    "        return self._balance\n",
    "    \n",
    "    @classmethod\n",
    "    def get_tz(cls):\n",
    "        return cls._tz\n",
    "    \n",
    "    @classmethod\n",
    "    def set_tz(cls, tz):\n",
    "        if isinstance(tz, TimeZone):\n",
    "            tz = timezone(tz.offset, tz.name)\n",
    "        if not isinstance(tz, timezone):\n",
    "            raise TypeError('Invalid TimeZone object passed')\n",
    "        cls._tz = tz\n",
    "    \n",
    "    \n",
    "    def deposit(self, value):\n",
    "        if not(isinstance(value, Real) or isinstance(value, Decimal)) or value < 0:\n",
    "            raise ValueError('Deposit amount must be a non-negative real number')\n",
    "        else:\n",
    "            self._balance += value\n",
    "            return TransactionID(0, self.account_number)\n",
    "            \n",
    "    def withdraw(self, value):\n",
    "        if not(isinstance(value, Real) or isinstance(value, Decimal)) or value < 0:\n",
    "            raise ValueError('Withdrawal amount must be a non-negative real number')\n",
    "        elif self._balance - value < 0:\n",
    "            raise TransactionAbort(f'Insufficient balance: {TransactionID(3, self.account_number)}')\n",
    "        else:\n",
    "            self._balance -= value\n",
    "            return TransactionID(1, self.account_number)\n",
    "            \n",
    "    def pay_monthly_interest(self):\n",
    "        interest_amount = self.balance * (self.interest_rate / 100)\n",
    "        self._balance += interest_amount\n",
    "        return TransactionID(2, self.account_number)\n",
    "    \n",
    "    @classmethod\n",
    "    def parse_confirmation_code(cls, confirmation_num):\n",
    "        trans_type, account_num, utc_time, trans_num = confirmation_num.split('-')\n",
    "        if trans_type not in 'DWIX':\n",
    "            raise TransactionCodeError('Invalid Transaction Code')\n",
    "        trans_code = 'DWIX'.index(trans_type)\n",
    "        trans_id = TransactionID(trans_code, int(account_num), utc_time=utc_time, tz=cls.get_tz())\n",
    "        trans_id.trans_num = int(trans_num)\n",
    "        return trans_id\n",
    "        \n",
    "        \n",
    "    def __repr__(self):\n",
    "        return f'Account(name={self.full_name}, balance={self.balance})'"
   ]
  },
  {
   "cell_type": "code",
   "execution_count": 51,
   "id": "metallic-championship",
   "metadata": {},
   "outputs": [],
   "source": [
    "acc = Account(12256, 'Syed', 'Hyder', tz=TimeZone('GST',-3, 10), balance=100)"
   ]
  },
  {
   "cell_type": "code",
   "execution_count": 52,
   "id": "animated-begin",
   "metadata": {},
   "outputs": [
    {
     "data": {
      "text/plain": [
       "Account(name=Syed Hyder, balance=100)"
      ]
     },
     "execution_count": 52,
     "metadata": {},
     "output_type": "execute_result"
    }
   ],
   "source": [
    "acc"
   ]
  },
  {
   "cell_type": "code",
   "execution_count": 53,
   "id": "married-mongolia",
   "metadata": {},
   "outputs": [
    {
     "data": {
      "text/plain": [
       "datetime.timezone(datetime.timedelta(days=-1, seconds=76200), 'GST')"
      ]
     },
     "execution_count": 53,
     "metadata": {},
     "output_type": "execute_result"
    }
   ],
   "source": [
    "acc.get_tz()"
   ]
  },
  {
   "cell_type": "code",
   "execution_count": 54,
   "id": "substantial-count",
   "metadata": {},
   "outputs": [
    {
     "data": {
      "text/plain": [
       "TransactionID(I-12256-20210608152229-0)"
      ]
     },
     "execution_count": 54,
     "metadata": {},
     "output_type": "execute_result"
    }
   ],
   "source": [
    "acc.pay_monthly_interest()"
   ]
  },
  {
   "cell_type": "code",
   "execution_count": 55,
   "id": "supported-price",
   "metadata": {},
   "outputs": [],
   "source": [
    "trans_id = acc.parse_confirmation_code('I-12256-20210608151005-0')"
   ]
  },
  {
   "cell_type": "code",
   "execution_count": 56,
   "id": "horizontal-delivery",
   "metadata": {},
   "outputs": [
    {
     "data": {
      "text/plain": [
       "'2021-06-08 06:50:05(GST)'"
      ]
     },
     "execution_count": 56,
     "metadata": {},
     "output_type": "execute_result"
    }
   ],
   "source": [
    "trans_id.time"
   ]
  },
  {
   "cell_type": "code",
   "execution_count": 57,
   "id": "specific-tamil",
   "metadata": {},
   "outputs": [
    {
     "data": {
      "text/plain": [
       "datetime.datetime(2021, 6, 8, 15, 10, 5)"
      ]
     },
     "execution_count": 57,
     "metadata": {},
     "output_type": "execute_result"
    }
   ],
   "source": [
    "trans_id.utc_time"
   ]
  },
  {
   "cell_type": "code",
   "execution_count": 58,
   "id": "increased-telephone",
   "metadata": {},
   "outputs": [
    {
     "data": {
      "text/plain": [
       "0"
      ]
     },
     "execution_count": 58,
     "metadata": {},
     "output_type": "execute_result"
    }
   ],
   "source": [
    "trans_id.trans_num"
   ]
  },
  {
   "cell_type": "code",
   "execution_count": 59,
   "id": "systematic-soviet",
   "metadata": {},
   "outputs": [
    {
     "data": {
      "text/plain": [
       "'2021-06-08T15:10:05'"
      ]
     },
     "execution_count": 59,
     "metadata": {},
     "output_type": "execute_result"
    }
   ],
   "source": [
    "trans_id.time_utc"
   ]
  },
  {
   "cell_type": "code",
   "execution_count": null,
   "id": "possible-lottery",
   "metadata": {},
   "outputs": [],
   "source": []
  },
  {
   "cell_type": "code",
   "execution_count": 62,
   "id": "fuzzy-fiction",
   "metadata": {},
   "outputs": [
    {
     "data": {
      "text/plain": [
       "True"
      ]
     },
     "execution_count": 62,
     "metadata": {},
     "output_type": "execute_result"
    }
   ],
   "source": [
    "trans_id.transaction_num == 'I-12256-20210608151005-0'"
   ]
  },
  {
   "cell_type": "code",
   "execution_count": null,
   "id": "concrete-point",
   "metadata": {},
   "outputs": [],
   "source": []
  },
  {
   "cell_type": "code",
   "execution_count": null,
   "id": "southeast-shock",
   "metadata": {},
   "outputs": [],
   "source": []
  },
  {
   "cell_type": "code",
   "execution_count": null,
   "id": "bearing-poland",
   "metadata": {},
   "outputs": [],
   "source": []
  },
  {
   "cell_type": "code",
   "execution_count": null,
   "id": "limited-flower",
   "metadata": {},
   "outputs": [],
   "source": []
  },
  {
   "cell_type": "code",
   "execution_count": 91,
   "id": "express-prince",
   "metadata": {},
   "outputs": [
    {
     "name": "stdout",
     "output_type": "stream",
     "text": [
      "Help on built-in function strptime:\n",
      "\n",
      "strptime(...) method of builtins.type instance\n",
      "    string, format -> new datetime parsed from a string (like time.strptime()).\n",
      "\n"
     ]
    }
   ],
   "source": [
    "help(datetime.strptime)"
   ]
  },
  {
   "cell_type": "code",
   "execution_count": 92,
   "id": "legislative-package",
   "metadata": {},
   "outputs": [
    {
     "data": {
      "text/plain": [
       "datetime.timezone(datetime.timedelta(days=-1, seconds=50400), 'GST')"
      ]
     },
     "execution_count": 92,
     "metadata": {},
     "output_type": "execute_result"
    }
   ],
   "source": [
    "datetime.utcnow().astimezone(timezone(timedelta(hours=-10), 'GST')).tzinfo"
   ]
  },
  {
   "cell_type": "code",
   "execution_count": 93,
   "id": "confirmed-choice",
   "metadata": {},
   "outputs": [
    {
     "name": "stdout",
     "output_type": "stream",
     "text": [
      "None\n"
     ]
    }
   ],
   "source": [
    "print(datetime.now().tzinfo)"
   ]
  },
  {
   "cell_type": "code",
   "execution_count": null,
   "id": "distinct-refrigerator",
   "metadata": {},
   "outputs": [],
   "source": []
  },
  {
   "cell_type": "code",
   "execution_count": null,
   "id": "armed-polyester",
   "metadata": {},
   "outputs": [],
   "source": []
  },
  {
   "cell_type": "code",
   "execution_count": null,
   "id": "outer-catering",
   "metadata": {},
   "outputs": [],
   "source": []
  },
  {
   "cell_type": "code",
   "execution_count": null,
   "id": "prospective-wisconsin",
   "metadata": {},
   "outputs": [],
   "source": []
  },
  {
   "cell_type": "code",
   "execution_count": null,
   "id": "reduced-hypothesis",
   "metadata": {},
   "outputs": [],
   "source": []
  },
  {
   "cell_type": "code",
   "execution_count": null,
   "id": "fossil-entity",
   "metadata": {},
   "outputs": [],
   "source": []
  },
  {
   "cell_type": "code",
   "execution_count": 22,
   "id": "elegant-workshop",
   "metadata": {},
   "outputs": [],
   "source": [
    "from numbers import Real\n",
    "from decimal import Decimal\n",
    "from fractions import Fraction\n",
    "from datetime import datetime, timezone, timedelta\n",
    "\n",
    "\n",
    "class TransactionAbort(Exception):\n",
    "    pass\n",
    "\n",
    "\n",
    "class TransactionCodeError(Exception):\n",
    "    pass\n",
    "\n",
    "\n",
    "class TimeZone:\n",
    "    def __init__(self, name, hours, minutes):\n",
    "        self.name = name\n",
    "        self.hours = hours\n",
    "        self.minutes = minutes\n",
    "\n",
    "    @property\n",
    "    def name(self):\n",
    "        return self._name\n",
    "\n",
    "    @name.setter\n",
    "    def name(self, value):\n",
    "        if not isinstance(value, str) or len(value) < 1:\n",
    "            raise ValueError('Invalid name for TimeZone')\n",
    "        else:\n",
    "            self._name = value\n",
    "\n",
    "    @property\n",
    "    def hours(self):\n",
    "        return self._hours\n",
    "\n",
    "    @hours.setter\n",
    "    def hours(self, value):\n",
    "        if not isinstance(value, int) or value >= 24 or value <= -24:\n",
    "            raise ValueError('Hours can only have integer values from -23 to 23')\n",
    "        else:\n",
    "            self._hours = value\n",
    "\n",
    "    @property\n",
    "    def minutes(self):\n",
    "        return self._minutes\n",
    "\n",
    "    @minutes.setter\n",
    "    def minutes(self, value):\n",
    "        if not isinstance(value, int) or value >= 60 or value <= -60:\n",
    "            raise ValueError('Minutes can only have integer values from -59 to 59')\n",
    "        else:\n",
    "            self._minutes = value\n",
    "\n",
    "    @property\n",
    "    def offset(self):\n",
    "        return timedelta(hours=self.hours, minutes=self.minutes)\n",
    "\n",
    "    def __repr__(self):\n",
    "        return f'TimeZone(name={self.name}, hours={self.hours}, minutes={self.minutes})'\n",
    "\n",
    "\n",
    "class TransactionID:\n",
    "    trans_num = -1\n",
    "\n",
    "    def __init__(self, trans_code, account_num, *, utc_time=None, tz=None):\n",
    "        self._codes = 'DWIX'\n",
    "        self.trans_code = trans_code\n",
    "        self.trans_type = self._codes[self.trans_code]\n",
    "        self.account_num = account_num\n",
    "        self.utc_time = utc_time or datetime.utcnow()\n",
    "        self.tz = tz or timezone.utc\n",
    "        self.inc_trans_num()\n",
    "\n",
    "    @property\n",
    "    def utc_time(self):\n",
    "        return self._utc_time\n",
    "\n",
    "    @utc_time.setter\n",
    "    def utc_time(self, value):\n",
    "        if not isinstance(value, datetime):\n",
    "            self._utc_time = datetime.strptime(value, '%Y%m%d%H%M%S')\n",
    "        else:\n",
    "            self._utc_time = value\n",
    "\n",
    "    @classmethod\n",
    "    def inc_trans_num(cls):\n",
    "        cls.trans_num += 1\n",
    "\n",
    "    @property\n",
    "    def transaction_num(self):\n",
    "        formatted_dt = datetime.strftime(self.utc_time, '%Y%m%d%H%M%S')\n",
    "        return f'{self.trans_type}-{self.account_num}-{formatted_dt}-{self.trans_num}'\n",
    "\n",
    "    @property\n",
    "    def time(self):\n",
    "        if self.tz is timezone.utc:\n",
    "            tz_time = self.utc_time\n",
    "            tz_name = 'UTC'\n",
    "        else:\n",
    "            tz_time = self.utc_time.astimezone(self.tz)\n",
    "            tz_name = tz_time.tzinfo\n",
    "        return datetime.strftime(tz_time, f'%Y-%m-%d %H:%M:%S({tz_name})')\n",
    "\n",
    "    @property\n",
    "    def time_utc(self):\n",
    "        return self.utc_time.isoformat()\n",
    "\n",
    "    def __repr__(self):\n",
    "        return f'TransactionID({self.transaction_num})'\n",
    "\n",
    "\n",
    "class Account:\n",
    "    interest_rate = 0.5\n",
    "\n",
    "    def __init__(self, account_num, first_name, last_name, *, tz=timezone.utc, balance=0):\n",
    "        self._account_num = account_num\n",
    "        self.first_name = first_name\n",
    "        self.last_name = last_name\n",
    "        self.set_tz(tz)\n",
    "\n",
    "        if not (isinstance(balance, Real) or isinstance(balance, Decimal)) or balance < 0:\n",
    "            raise ValueError('Balance must be a non-negative real number')\n",
    "        else:\n",
    "            self._balance = balance\n",
    "\n",
    "    @property\n",
    "    def account_number(self):\n",
    "        return self._account_num\n",
    "\n",
    "    @property\n",
    "    def first_name(self):\n",
    "        return self._first_name\n",
    "\n",
    "    @first_name.setter\n",
    "    def first_name(self, name):\n",
    "        if not isinstance(name, str):\n",
    "            raise TypeError('Name should only be a string')\n",
    "        elif len(name) < 1:\n",
    "            raise ValueError('First Name should be atleast 1 character long')\n",
    "        else:\n",
    "            self._first_name = name.strip()\n",
    "\n",
    "    @property\n",
    "    def last_name(self):\n",
    "        return self._last_name\n",
    "\n",
    "    @last_name.setter\n",
    "    def last_name(self, name):\n",
    "        if not isinstance(name, str):\n",
    "            raise TypeError('Name should only be a string')\n",
    "        else:\n",
    "            self._last_name = name.strip()\n",
    "\n",
    "    @property\n",
    "    def full_name(self):\n",
    "        return f'{self.first_name} {self.last_name}'\n",
    "\n",
    "    @property\n",
    "    def balance(self):\n",
    "        return self._balance\n",
    "\n",
    "    @classmethod\n",
    "    def get_tz(cls):\n",
    "        return cls._tz\n",
    "\n",
    "    @classmethod\n",
    "    def set_tz(cls, tz):\n",
    "        if isinstance(tz, TimeZone):\n",
    "            tz = timezone(tz.offset, tz.name)\n",
    "        if not isinstance(tz, timezone):\n",
    "            raise TypeError('Invalid TimeZone object passed')\n",
    "        cls._tz = tz\n",
    "\n",
    "    def deposit(self, value):\n",
    "        if not (isinstance(value, Real) or isinstance(value, Decimal)) or value < 0:\n",
    "            raise ValueError('Deposit amount must be a non-negative real number')\n",
    "        else:\n",
    "            self._balance += value\n",
    "            return TransactionID(0, self.account_number, tz=self.get_tz())\n",
    "\n",
    "    def withdraw(self, value):\n",
    "        if not (isinstance(value, Real) or isinstance(value, Decimal)) or value < 0:\n",
    "            raise ValueError('Withdrawal amount must be a non-negative real number')\n",
    "        elif self._balance - value < 0:\n",
    "            raise TransactionAbort(f'Insufficient balance: {TransactionID(3, self.account_number)}')\n",
    "        else:\n",
    "            self._balance -= value\n",
    "            return TransactionID(1, self.account_number, tz=self.get_tz())\n",
    "\n",
    "    def pay_monthly_interest(self):\n",
    "        interest_amount = self.balance * (self.interest_rate / 100)\n",
    "        self._balance += interest_amount\n",
    "        return TransactionID(2, self.account_number, tz=self.get_tz())\n",
    "\n",
    "    @classmethod\n",
    "    def parse_confirmation_code(cls, confirmation_num):\n",
    "        trans_type, account_num, utc_time, trans_num = confirmation_num.split('-')\n",
    "        if trans_type not in 'DWIX':\n",
    "            raise TransactionCodeError('Invalid Transaction Code')\n",
    "        trans_code = 'DWIX'.index(trans_type)\n",
    "        trans_id = TransactionID(trans_code, int(account_num), utc_time=utc_time, tz=cls.get_tz())\n",
    "        trans_id.trans_num = int(trans_num)\n",
    "        return trans_id\n",
    "\n",
    "    def __repr__(self):\n",
    "        return f'Account(name={self.full_name}, balance={self.balance})'"
   ]
  },
  {
   "cell_type": "code",
   "execution_count": 23,
   "id": "enabling-prince",
   "metadata": {},
   "outputs": [],
   "source": [
    "acc = Account(1562, 'Syed', 'Hyder', tz=TimeZone('GMT', -12, -42), balance=1000)"
   ]
  },
  {
   "cell_type": "code",
   "execution_count": 24,
   "id": "ignored-spectrum",
   "metadata": {},
   "outputs": [
    {
     "data": {
      "text/plain": [
       "Account(name=Syed Hyder, balance=1000)"
      ]
     },
     "execution_count": 24,
     "metadata": {},
     "output_type": "execute_result"
    }
   ],
   "source": [
    "acc"
   ]
  },
  {
   "cell_type": "code",
   "execution_count": 25,
   "id": "extraordinary-hopkins",
   "metadata": {},
   "outputs": [
    {
     "data": {
      "text/plain": [
       "TransactionID(I-1562-20210608153355-0)"
      ]
     },
     "execution_count": 25,
     "metadata": {},
     "output_type": "execute_result"
    }
   ],
   "source": [
    "acc.pay_monthly_interest()"
   ]
  },
  {
   "cell_type": "code",
   "execution_count": 26,
   "id": "civil-testament",
   "metadata": {},
   "outputs": [
    {
     "data": {
      "text/plain": [
       "Account(name=Syed Hyder, balance=1005.0)"
      ]
     },
     "execution_count": 26,
     "metadata": {},
     "output_type": "execute_result"
    }
   ],
   "source": [
    "acc"
   ]
  },
  {
   "cell_type": "code",
   "execution_count": 27,
   "id": "pediatric-singles",
   "metadata": {},
   "outputs": [
    {
     "data": {
      "text/plain": [
       "TransactionID(W-1562-20210608153400-1)"
      ]
     },
     "execution_count": 27,
     "metadata": {},
     "output_type": "execute_result"
    }
   ],
   "source": [
    "acc.withdraw(1000)"
   ]
  },
  {
   "cell_type": "code",
   "execution_count": 28,
   "id": "starting-power",
   "metadata": {},
   "outputs": [
    {
     "data": {
      "text/plain": [
       "Account(name=Syed Hyder, balance=5.0)"
      ]
     },
     "execution_count": 28,
     "metadata": {},
     "output_type": "execute_result"
    }
   ],
   "source": [
    "acc"
   ]
  },
  {
   "cell_type": "code",
   "execution_count": 29,
   "id": "bearing-handbook",
   "metadata": {},
   "outputs": [
    {
     "data": {
      "text/plain": [
       "TransactionID(D-1562-20210608153404-2)"
      ]
     },
     "execution_count": 29,
     "metadata": {},
     "output_type": "execute_result"
    }
   ],
   "source": [
    "acc.deposit(100)"
   ]
  },
  {
   "cell_type": "code",
   "execution_count": 30,
   "id": "complex-income",
   "metadata": {},
   "outputs": [
    {
     "data": {
      "text/plain": [
       "Account(name=Syed Hyder, balance=105.0)"
      ]
     },
     "execution_count": 30,
     "metadata": {},
     "output_type": "execute_result"
    }
   ],
   "source": [
    "acc"
   ]
  },
  {
   "cell_type": "code",
   "execution_count": 31,
   "id": "fewer-prescription",
   "metadata": {},
   "outputs": [
    {
     "ename": "TransactionAbort",
     "evalue": "Insufficient balance: TransactionID(X-1562-20210608153408-3)",
     "output_type": "error",
     "traceback": [
      "\u001b[1;31m---------------------------------------------------------------------------\u001b[0m",
      "\u001b[1;31mTransactionAbort\u001b[0m                          Traceback (most recent call last)",
      "\u001b[1;32m<ipython-input-31-b13846a01b4a>\u001b[0m in \u001b[0;36m<module>\u001b[1;34m\u001b[0m\n\u001b[1;32m----> 1\u001b[1;33m \u001b[0macc\u001b[0m\u001b[1;33m.\u001b[0m\u001b[0mwithdraw\u001b[0m\u001b[1;33m(\u001b[0m\u001b[1;36m1000\u001b[0m\u001b[1;33m)\u001b[0m\u001b[1;33m\u001b[0m\u001b[1;33m\u001b[0m\u001b[0m\n\u001b[0m",
      "\u001b[1;32m<ipython-input-22-f284c9114fe0>\u001b[0m in \u001b[0;36mwithdraw\u001b[1;34m(self, value)\u001b[0m\n\u001b[0;32m    183\u001b[0m             \u001b[1;32mraise\u001b[0m \u001b[0mValueError\u001b[0m\u001b[1;33m(\u001b[0m\u001b[1;34m'Withdrawal amount must be a non-negative real number'\u001b[0m\u001b[1;33m)\u001b[0m\u001b[1;33m\u001b[0m\u001b[1;33m\u001b[0m\u001b[0m\n\u001b[0;32m    184\u001b[0m         \u001b[1;32melif\u001b[0m \u001b[0mself\u001b[0m\u001b[1;33m.\u001b[0m\u001b[0m_balance\u001b[0m \u001b[1;33m-\u001b[0m \u001b[0mvalue\u001b[0m \u001b[1;33m<\u001b[0m \u001b[1;36m0\u001b[0m\u001b[1;33m:\u001b[0m\u001b[1;33m\u001b[0m\u001b[1;33m\u001b[0m\u001b[0m\n\u001b[1;32m--> 185\u001b[1;33m             \u001b[1;32mraise\u001b[0m \u001b[0mTransactionAbort\u001b[0m\u001b[1;33m(\u001b[0m\u001b[1;34mf'Insufficient balance: {TransactionID(3, self.account_number)}'\u001b[0m\u001b[1;33m)\u001b[0m\u001b[1;33m\u001b[0m\u001b[1;33m\u001b[0m\u001b[0m\n\u001b[0m\u001b[0;32m    186\u001b[0m         \u001b[1;32melse\u001b[0m\u001b[1;33m:\u001b[0m\u001b[1;33m\u001b[0m\u001b[1;33m\u001b[0m\u001b[0m\n\u001b[0;32m    187\u001b[0m             \u001b[0mself\u001b[0m\u001b[1;33m.\u001b[0m\u001b[0m_balance\u001b[0m \u001b[1;33m-=\u001b[0m \u001b[0mvalue\u001b[0m\u001b[1;33m\u001b[0m\u001b[1;33m\u001b[0m\u001b[0m\n",
      "\u001b[1;31mTransactionAbort\u001b[0m: Insufficient balance: TransactionID(X-1562-20210608153408-3)"
     ]
    }
   ],
   "source": [
    "acc.withdraw(1000)"
   ]
  },
  {
   "cell_type": "code",
   "execution_count": 32,
   "id": "wrong-address",
   "metadata": {},
   "outputs": [
    {
     "data": {
      "text/plain": [
       "TransactionID(W-1562-20210608153411-4)"
      ]
     },
     "execution_count": 32,
     "metadata": {},
     "output_type": "execute_result"
    }
   ],
   "source": [
    "acc.withdraw(105)"
   ]
  },
  {
   "cell_type": "code",
   "execution_count": 33,
   "id": "blind-month",
   "metadata": {},
   "outputs": [
    {
     "data": {
      "text/plain": [
       "Account(name=Syed Hyder, balance=0.0)"
      ]
     },
     "execution_count": 33,
     "metadata": {},
     "output_type": "execute_result"
    }
   ],
   "source": [
    "acc"
   ]
  },
  {
   "cell_type": "code",
   "execution_count": 34,
   "id": "recorded-limitation",
   "metadata": {},
   "outputs": [],
   "source": [
    "trans = acc.deposit(10)"
   ]
  },
  {
   "cell_type": "code",
   "execution_count": 35,
   "id": "insured-recall",
   "metadata": {},
   "outputs": [
    {
     "data": {
      "text/plain": [
       "TransactionID(D-1562-20210608153413-5)"
      ]
     },
     "execution_count": 35,
     "metadata": {},
     "output_type": "execute_result"
    }
   ],
   "source": [
    "trans"
   ]
  },
  {
   "cell_type": "code",
   "execution_count": 36,
   "id": "incident-partnership",
   "metadata": {},
   "outputs": [
    {
     "data": {
      "text/plain": [
       "'2021-06-08T15:34:13.531745'"
      ]
     },
     "execution_count": 36,
     "metadata": {},
     "output_type": "execute_result"
    }
   ],
   "source": [
    "trans.time_utc"
   ]
  },
  {
   "cell_type": "code",
   "execution_count": 37,
   "id": "substantial-thing",
   "metadata": {},
   "outputs": [
    {
     "data": {
      "text/plain": [
       "'2021-06-07 21:22:13(GMT)'"
      ]
     },
     "execution_count": 37,
     "metadata": {},
     "output_type": "execute_result"
    }
   ],
   "source": [
    "trans.time"
   ]
  },
  {
   "cell_type": "code",
   "execution_count": 38,
   "id": "other-spank",
   "metadata": {},
   "outputs": [
    {
     "data": {
      "text/plain": [
       "{'_codes': 'DWIX',\n",
       " 'trans_code': 0,\n",
       " 'trans_type': 'D',\n",
       " 'account_num': 1562,\n",
       " '_utc_time': datetime.datetime(2021, 6, 8, 15, 34, 13, 531745),\n",
       " 'tz': datetime.timezone(datetime.timedelta(days=-1, seconds=40680), 'GMT')}"
      ]
     },
     "execution_count": 38,
     "metadata": {},
     "output_type": "execute_result"
    }
   ],
   "source": [
    "trans.__dict__"
   ]
  },
  {
   "cell_type": "code",
   "execution_count": 41,
   "id": "persistent-offset",
   "metadata": {},
   "outputs": [],
   "source": [
    "trans.tz = timezone.utc"
   ]
  },
  {
   "cell_type": "code",
   "execution_count": 42,
   "id": "functioning-legend",
   "metadata": {},
   "outputs": [
    {
     "data": {
      "text/plain": [
       "'2021-06-08 15:34:13(UTC)'"
      ]
     },
     "execution_count": 42,
     "metadata": {},
     "output_type": "execute_result"
    }
   ],
   "source": [
    "trans.time"
   ]
  },
  {
   "cell_type": "code",
   "execution_count": 43,
   "id": "czech-louis",
   "metadata": {},
   "outputs": [
    {
     "data": {
      "text/plain": [
       "'2021-06-08T15:34:13.531745'"
      ]
     },
     "execution_count": 43,
     "metadata": {},
     "output_type": "execute_result"
    }
   ],
   "source": [
    "trans.time_utc"
   ]
  },
  {
   "cell_type": "code",
   "execution_count": 44,
   "id": "phantom-coverage",
   "metadata": {},
   "outputs": [],
   "source": [
    "acc2 = Account(11000, 'Gokila', '')"
   ]
  },
  {
   "cell_type": "code",
   "execution_count": 46,
   "id": "assigned-entertainment",
   "metadata": {},
   "outputs": [
    {
     "data": {
      "text/plain": [
       "datetime.timezone.utc"
      ]
     },
     "execution_count": 46,
     "metadata": {},
     "output_type": "execute_result"
    }
   ],
   "source": [
    "acc.get_tz()"
   ]
  },
  {
   "cell_type": "code",
   "execution_count": 47,
   "id": "short-courage",
   "metadata": {},
   "outputs": [],
   "source": [
    "acc2.set_tz(TimeZone('GMT', -12, -42))"
   ]
  },
  {
   "cell_type": "code",
   "execution_count": 48,
   "id": "addressed-jacksonville",
   "metadata": {},
   "outputs": [
    {
     "data": {
      "text/plain": [
       "datetime.timezone(datetime.timedelta(days=-1, seconds=40680), 'GMT')"
      ]
     },
     "execution_count": 48,
     "metadata": {},
     "output_type": "execute_result"
    }
   ],
   "source": [
    "acc.get_tz()"
   ]
  },
  {
   "cell_type": "code",
   "execution_count": 49,
   "id": "flexible-catch",
   "metadata": {},
   "outputs": [
    {
     "data": {
      "text/plain": [
       "TransactionID(D-11000-20210608153855-6)"
      ]
     },
     "execution_count": 49,
     "metadata": {},
     "output_type": "execute_result"
    }
   ],
   "source": [
    "acc2.deposit(100)"
   ]
  },
  {
   "cell_type": "code",
   "execution_count": 50,
   "id": "statewide-turkish",
   "metadata": {},
   "outputs": [
    {
     "data": {
      "text/plain": [
       "TransactionID(I-1562-20210608153906-7)"
      ]
     },
     "execution_count": 50,
     "metadata": {},
     "output_type": "execute_result"
    }
   ],
   "source": [
    "acc.pay_monthly_interest()"
   ]
  },
  {
   "cell_type": "code",
   "execution_count": 51,
   "id": "extensive-enlargement",
   "metadata": {},
   "outputs": [
    {
     "data": {
      "text/plain": [
       "Account(name=Gokila , balance=100)"
      ]
     },
     "execution_count": 51,
     "metadata": {},
     "output_type": "execute_result"
    }
   ],
   "source": [
    "acc2"
   ]
  },
  {
   "cell_type": "code",
   "execution_count": 52,
   "id": "human-sheep",
   "metadata": {},
   "outputs": [
    {
     "data": {
      "text/plain": [
       "TransactionID(I-11000-20210608153917-8)"
      ]
     },
     "execution_count": 52,
     "metadata": {},
     "output_type": "execute_result"
    }
   ],
   "source": [
    "acc2.pay_monthly_interest()"
   ]
  },
  {
   "cell_type": "code",
   "execution_count": 53,
   "id": "naked-victor",
   "metadata": {},
   "outputs": [
    {
     "data": {
      "text/plain": [
       "Account(name=Gokila , balance=100.5)"
      ]
     },
     "execution_count": 53,
     "metadata": {},
     "output_type": "execute_result"
    }
   ],
   "source": [
    "acc2"
   ]
  },
  {
   "cell_type": "code",
   "execution_count": null,
   "id": "challenging-shower",
   "metadata": {},
   "outputs": [],
   "source": []
  }
 ],
 "metadata": {
  "kernelspec": {
   "display_name": "Python 3",
   "language": "python",
   "name": "python3"
  },
  "language_info": {
   "codemirror_mode": {
    "name": "ipython",
    "version": 3
   },
   "file_extension": ".py",
   "mimetype": "text/x-python",
   "name": "python",
   "nbconvert_exporter": "python",
   "pygments_lexer": "ipython3",
   "version": "3.9.1"
  }
 },
 "nbformat": 4,
 "nbformat_minor": 5
}
